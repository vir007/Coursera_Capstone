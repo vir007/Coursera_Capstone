{
 "metadata": {
  "language_info": {
   "codemirror_mode": {
    "name": "ipython",
    "version": 3
   },
   "file_extension": ".py",
   "mimetype": "text/x-python",
   "name": "python",
   "nbconvert_exporter": "python",
   "pygments_lexer": "ipython3",
   "version": "3.6.9-final"
  },
  "orig_nbformat": 2,
  "kernelspec": {
   "name": "python3",
   "display_name": "Python 3",
   "language": "python"
  }
 },
 "nbformat": 4,
 "nbformat_minor": 2,
 "cells": [
  {
   "source": [
    "## IBM Applied D.S Capstone Project\n",
    "### Viral Patel\n",
    "#### Week 3 Notebook 1: Build a dataframe of the postal code of each neighborhood along with the borough name and neighborhood name in Toronto."
   ],
   "cell_type": "markdown",
   "metadata": {}
  },
  {
   "source": [
    "### 1. Import Libraries"
   ],
   "cell_type": "markdown",
   "metadata": {}
  },
  {
   "cell_type": "code",
   "execution_count": 1,
   "metadata": {},
   "outputs": [
    {
     "output_type": "stream",
     "name": "stdout",
     "text": [
      "Collecting package metadata (current_repodata.json): ...working... done\n",
      "Solving environment: ...working... done\n",
      "\n",
      "## Package Plan ##\n",
      "\n",
      "  environment location: C:\\Users\\virpa\\Anaconda3\n",
      "\n",
      "  added / updated specs:\n",
      "    - lxml\n",
      "\n",
      "\n",
      "The following packages will be downloaded:\n",
      "\n",
      "    package                    |            build\n",
      "    ---------------------------|-----------------\n",
      "    ca-certificates-2020.12.5  |       h5b45459_0         173 KB  conda-forge\n",
      "    certifi-2020.12.5          |   py36ha15d459_0         143 KB  conda-forge\n",
      "    lxml-3.8.0                 |           py36_0         846 KB  conda-forge\n",
      "    openssl-1.1.1i             |       h8ffe710_0         5.8 MB  conda-forge\n",
      "    ------------------------------------------------------------\n",
      "                                           Total:         6.9 MB\n",
      "\n",
      "The following packages will be UPDATED:\n",
      "\n",
      "  ca-certificates                      2020.11.8-h5b45459_0 --> 2020.12.5-h5b45459_0\n",
      "  certifi                          2020.11.8-py36ha15d459_0 --> 2020.12.5-py36ha15d459_0\n",
      "  openssl                                 1.1.1h-he774522_0 --> 1.1.1i-h8ffe710_0\n",
      "\n",
      "The following packages will be SUPERSEDED by a higher-priority channel:\n",
      "\n",
      "  lxml                 pkgs/main::lxml-4.4.1-py36h1350720_0 --> conda-forge::lxml-3.8.0-py36_0\n",
      "\n",
      "\n",
      "\n",
      "Downloading and Extracting Packages\n",
      "\n",
      "certifi-2020.12.5    | 143 KB    |            |   0% \n",
      "certifi-2020.12.5    | 143 KB    | #1         |  11% \n",
      "certifi-2020.12.5    | 143 KB    | ########## | 100% \n",
      "certifi-2020.12.5    | 143 KB    | ########## | 100% \n",
      "\n",
      "ca-certificates-2020 | 173 KB    |            |   0% \n",
      "ca-certificates-2020 | 173 KB    | #######3   |  74% \n",
      "ca-certificates-2020 | 173 KB    | ########## | 100% \n",
      "\n",
      "openssl-1.1.1i       | 5.8 MB    |            |   0% \n",
      "openssl-1.1.1i       | 5.8 MB    |            |   0% \n",
      "openssl-1.1.1i       | 5.8 MB    | #3         |  14% \n",
      "openssl-1.1.1i       | 5.8 MB    | ###1       |  32% \n",
      "openssl-1.1.1i       | 5.8 MB    | ####7      |  47% \n",
      "openssl-1.1.1i       | 5.8 MB    | ######5    |  66% \n",
      "openssl-1.1.1i       | 5.8 MB    | #########2 |  92% \n",
      "openssl-1.1.1i       | 5.8 MB    | ########## | 100% \n",
      "\n",
      "lxml-3.8.0           | 846 KB    |            |   0% \n",
      "lxml-3.8.0           | 846 KB    | ####5      |  45% \n",
      "lxml-3.8.0           | 846 KB    | ########## | 100% \n",
      "lxml-3.8.0           | 846 KB    | ########## | 100% \n",
      "Preparing transaction: ...working... done\n",
      "Verifying transaction: ...working... done\n",
      "Executing transaction: ...working... done\n",
      "Libraries imported.\n"
     ]
    }
   ],
   "source": [
    "!conda install -c conda-forge lxml --yes\n",
    "import requests\n",
    "import lxml.html as lh\n",
    "import pandas as pd\n",
    "print(\"Libraries imported.\")"
   ]
  },
  {
   "source": [
    "### 2. Scrap data from Wikipedia page into a DataFrame"
   ],
   "cell_type": "markdown",
   "metadata": {}
  },
  {
   "cell_type": "code",
   "execution_count": 2,
   "metadata": {},
   "outputs": [],
   "source": [
    "url='https://en.wikipedia.org/wiki/List_of_postal_codes_of_Canada:_M'\n",
    "#Create a handle, page, to handle the contents of the website\n",
    "page = requests.get(url)\n",
    "#Store the contents of the website under doc\n",
    "doc = lh.fromstring(page.content)\n",
    "#Parse data that are stored between <tr>..</tr> of HTML\n",
    "tr_elements = doc.xpath('//tr')\n",
    "r = requests.get(url)"
   ]
  },
  {
   "cell_type": "code",
   "execution_count": 3,
   "metadata": {},
   "outputs": [
    {
     "output_type": "stream",
     "name": "stdout",
     "text": [
      "1:\"Postal Code\n\"\n2:\"Borough\n\"\n3:\"Neighbourhood\n\"\n"
     ]
    }
   ],
   "source": [
    "#Create empty list\n",
    "col=[]\n",
    "i=0\n",
    "#For each row, store each first element (header) and an empty list\n",
    "for t in tr_elements[0]:\n",
    "    i+=1\n",
    "    name=t.text_content()\n",
    "    print ('%d:\"%s\"'%(i,name))\n",
    "    col.append((name,[]))"
   ]
  },
  {
   "source": [
    "### Append the data into the respective lists"
   ],
   "cell_type": "markdown",
   "metadata": {}
  },
  {
   "cell_type": "code",
   "execution_count": 5,
   "metadata": {},
   "outputs": [],
   "source": [
    "size_of_col = 3\n",
    "for j in range(1,len(tr_elements)):\n",
    "    #T is our j'th row\n",
    "    T=tr_elements[j]\n",
    "    \n",
    "    #If row is not of size 3, the //tr data is not from our table \n",
    "    if len(T)!=size_of_col:\n",
    "        break\n",
    "    \n",
    "    #i is the index of our column\n",
    "    i=0\n",
    "    \n",
    "    #Iterate through each element of the row\n",
    "    for t in T.iterchildren():\n",
    "        data=t.text_content() \n",
    "        #Check if row is empty\n",
    "        if i>0:\n",
    "        #Convert any numerical value to integers\n",
    "            try:\n",
    "                data=int(data)\n",
    "            except:\n",
    "                pass\n",
    "        #Append the data to the empty list of the i'th column\n",
    "        col[i][1].append(data)\n",
    "        #Increment i for the next column\n",
    "        i+=1"
   ]
  },
  {
   "source": [
    "### Create a new DataFrame from the three lists"
   ],
   "cell_type": "markdown",
   "metadata": {}
  },
  {
   "cell_type": "code",
   "execution_count": 6,
   "metadata": {},
   "outputs": [
    {
     "output_type": "execute_result",
     "data": {
      "text/plain": [
       "    PostalCode       Borough  \\\n",
       "356        M5Z  Not assigned   \n",
       "357        M6Z  Not assigned   \n",
       "358        M7Z  Not assigned   \n",
       "359        M8Z     Etobicoke   \n",
       "360        M9Z  Not assigned   \n",
       "\n",
       "                                          Neighborhood  \n",
       "356                                       Not assigned  \n",
       "357                                       Not assigned  \n",
       "358                                       Not assigned  \n",
       "359  Mimico NW, The Queensway West, South of Bloor,...  \n",
       "360                                       Not assigned  "
      ],
      "text/html": "<div>\n<style scoped>\n    .dataframe tbody tr th:only-of-type {\n        vertical-align: middle;\n    }\n\n    .dataframe tbody tr th {\n        vertical-align: top;\n    }\n\n    .dataframe thead th {\n        text-align: right;\n    }\n</style>\n<table border=\"1\" class=\"dataframe\">\n  <thead>\n    <tr style=\"text-align: right;\">\n      <th></th>\n      <th>PostalCode</th>\n      <th>Borough</th>\n      <th>Neighborhood</th>\n    </tr>\n  </thead>\n  <tbody>\n    <tr>\n      <td>356</td>\n      <td>M5Z</td>\n      <td>Not assigned</td>\n      <td>Not assigned</td>\n    </tr>\n    <tr>\n      <td>357</td>\n      <td>M6Z</td>\n      <td>Not assigned</td>\n      <td>Not assigned</td>\n    </tr>\n    <tr>\n      <td>358</td>\n      <td>M7Z</td>\n      <td>Not assigned</td>\n      <td>Not assigned</td>\n    </tr>\n    <tr>\n      <td>359</td>\n      <td>M8Z</td>\n      <td>Etobicoke</td>\n      <td>Mimico NW, The Queensway West, South of Bloor,...</td>\n    </tr>\n    <tr>\n      <td>360</td>\n      <td>M9Z</td>\n      <td>Not assigned</td>\n      <td>Not assigned</td>\n    </tr>\n  </tbody>\n</table>\n</div>"
     },
     "metadata": {},
     "execution_count": 6
    }
   ],
   "source": [
    "Dict={title:column for (title,column) in col}\n",
    "df=pd.DataFrame(Dict)\n",
    "df = df.replace(r'\\n','', regex=True) \n",
    "df.columns = ['PostalCode', 'Borough', 'Neighborhood']\n",
    "df.drop(df.tail(1).index,inplace=True)\n",
    "df.tail()"
   ]
  },
  {
   "source": [
    "### 3. Drop cells with a borough that is \"Not assigned\""
   ],
   "cell_type": "markdown",
   "metadata": {}
  },
  {
   "cell_type": "code",
   "execution_count": 7,
   "metadata": {},
   "outputs": [
    {
     "output_type": "execute_result",
     "data": {
      "text/plain": [
       "  PostalCode           Borough                                 Neighborhood\n",
       "0        M3A        North York                                    Parkwoods\n",
       "1        M4A        North York                             Victoria Village\n",
       "2        M5A  Downtown Toronto                    Regent Park, Harbourfront\n",
       "3        M6A        North York             Lawrence Manor, Lawrence Heights\n",
       "4        M7A  Downtown Toronto  Queen's Park, Ontario Provincial Government"
      ],
      "text/html": "<div>\n<style scoped>\n    .dataframe tbody tr th:only-of-type {\n        vertical-align: middle;\n    }\n\n    .dataframe tbody tr th {\n        vertical-align: top;\n    }\n\n    .dataframe thead th {\n        text-align: right;\n    }\n</style>\n<table border=\"1\" class=\"dataframe\">\n  <thead>\n    <tr style=\"text-align: right;\">\n      <th></th>\n      <th>PostalCode</th>\n      <th>Borough</th>\n      <th>Neighborhood</th>\n    </tr>\n  </thead>\n  <tbody>\n    <tr>\n      <td>0</td>\n      <td>M3A</td>\n      <td>North York</td>\n      <td>Parkwoods</td>\n    </tr>\n    <tr>\n      <td>1</td>\n      <td>M4A</td>\n      <td>North York</td>\n      <td>Victoria Village</td>\n    </tr>\n    <tr>\n      <td>2</td>\n      <td>M5A</td>\n      <td>Downtown Toronto</td>\n      <td>Regent Park, Harbourfront</td>\n    </tr>\n    <tr>\n      <td>3</td>\n      <td>M6A</td>\n      <td>North York</td>\n      <td>Lawrence Manor, Lawrence Heights</td>\n    </tr>\n    <tr>\n      <td>4</td>\n      <td>M7A</td>\n      <td>Downtown Toronto</td>\n      <td>Queen's Park, Ontario Provincial Government</td>\n    </tr>\n  </tbody>\n</table>\n</div>"
     },
     "metadata": {},
     "execution_count": 7
    }
   ],
   "source": [
    "df = df[df.Borough != \"Not assigned\"].reset_index(drop=True)\n",
    "df.head()"
   ]
  },
  {
   "source": [
    "### 4. Group neighborhoods in the same Borough"
   ],
   "cell_type": "markdown",
   "metadata": {}
  },
  {
   "cell_type": "code",
   "execution_count": 8,
   "metadata": {},
   "outputs": [],
   "source": [
    "df = df.replace(r'/',', ', regex=True)"
   ]
  },
  {
   "source": [
    "### 5. For Neighborhood=\"Not assigned\", make the value the same as Borough"
   ],
   "cell_type": "markdown",
   "metadata": {}
  },
  {
   "cell_type": "code",
   "execution_count": 9,
   "metadata": {},
   "outputs": [],
   "source": [
    "for index, row in df.iterrows():\n",
    "    if row[\"Neighborhood\"] == \"Not assigned\":\n",
    "        row[\"Neighborhood\"] = row[\"Borough\"]"
   ]
  },
  {
   "cell_type": "code",
   "execution_count": 10,
   "metadata": {},
   "outputs": [
    {
     "output_type": "execute_result",
     "data": {
      "text/plain": [
       "  PostalCode           Borough                                 Neighborhood\n",
       "0        M3A        North York                                    Parkwoods\n",
       "1        M4A        North York                             Victoria Village\n",
       "2        M5A  Downtown Toronto                    Regent Park, Harbourfront\n",
       "3        M6A        North York             Lawrence Manor, Lawrence Heights\n",
       "4        M7A  Downtown Toronto  Queen's Park, Ontario Provincial Government"
      ],
      "text/html": "<div>\n<style scoped>\n    .dataframe tbody tr th:only-of-type {\n        vertical-align: middle;\n    }\n\n    .dataframe tbody tr th {\n        vertical-align: top;\n    }\n\n    .dataframe thead th {\n        text-align: right;\n    }\n</style>\n<table border=\"1\" class=\"dataframe\">\n  <thead>\n    <tr style=\"text-align: right;\">\n      <th></th>\n      <th>PostalCode</th>\n      <th>Borough</th>\n      <th>Neighborhood</th>\n    </tr>\n  </thead>\n  <tbody>\n    <tr>\n      <td>0</td>\n      <td>M3A</td>\n      <td>North York</td>\n      <td>Parkwoods</td>\n    </tr>\n    <tr>\n      <td>1</td>\n      <td>M4A</td>\n      <td>North York</td>\n      <td>Victoria Village</td>\n    </tr>\n    <tr>\n      <td>2</td>\n      <td>M5A</td>\n      <td>Downtown Toronto</td>\n      <td>Regent Park, Harbourfront</td>\n    </tr>\n    <tr>\n      <td>3</td>\n      <td>M6A</td>\n      <td>North York</td>\n      <td>Lawrence Manor, Lawrence Heights</td>\n    </tr>\n    <tr>\n      <td>4</td>\n      <td>M7A</td>\n      <td>Downtown Toronto</td>\n      <td>Queen's Park, Ontario Provincial Government</td>\n    </tr>\n  </tbody>\n</table>\n</div>"
     },
     "metadata": {},
     "execution_count": 10
    }
   ],
   "source": [
    "df.head()"
   ]
  },
  {
   "source": [
    "### 6. Print the number of rows of the cleaned dataframe"
   ],
   "cell_type": "markdown",
   "metadata": {}
  },
  {
   "cell_type": "code",
   "execution_count": 12,
   "metadata": {},
   "outputs": [
    {
     "output_type": "stream",
     "name": "stdout",
     "text": [
      "(207, 3)\n"
     ]
    }
   ],
   "source": [
    "print(df.shape)"
   ]
  },
  {
   "cell_type": "code",
   "execution_count": 13,
   "metadata": {},
   "outputs": [],
   "source": [
    "df.to_csv('CapstoneCanadaPre_part1_week3.csv')"
   ]
  }
 ]
}