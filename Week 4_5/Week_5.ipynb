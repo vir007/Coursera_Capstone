{
 "cells": [
  {
   "cell_type": "markdown",
   "metadata": {},
   "source": [
    "### 1.1.1 Load Toronto geospatial cooridinates and merge to Toronto Postal Code Data"
   ]
  },
  {
   "cell_type": "markdown",
   "metadata": {},
   "source": [
    "# Capstone: Find the best neighborhood in Toronto to open a Restaurant Supply Store"
   ]
  },
  {
   "cell_type": "markdown",
   "metadata": {},
   "source": [
    "## 1. Load all the Data from all the various sources."
   ]
  },
  {
   "cell_type": "markdown",
   "metadata": {},
   "source": [
    "### 1.1 Toronto neighborhoods broken down by postal code."
   ]
  },
  {
   "cell_type": "code",
   "execution_count": 2,
   "metadata": {},
   "outputs": [],
   "source": [
    "# Load the required libraries\n",
    "import numpy as np\n",
    "import pandas as pd\n",
    "import requests\n",
    "from bs4 import BeautifulSoup\n",
    "\n",
    "# Found the table using beautifulsoup and used Pandas to read it in. \n",
    "res = requests.get('https://en.wikipedia.org/wiki/List_of_postal_codes_of_Canada:_M')\n",
    "soup = BeautifulSoup(res.content,'lxml')\n",
    "table = soup.find_all('table')[0] \n",
    "df = pd.read_html(str(table))\n",
    "\n",
    "\n",
    "# WRANGLE/Transform THE DATA\n",
    "# Convert the list back into a dataframe\n",
    "data = pd.DataFrame(df[0])\n"
   ]
  },
  {
   "cell_type": "code",
   "execution_count": 3,
   "metadata": {},
   "outputs": [],
   "source": [
    "data = data.rename(columns={0:'PostalCode', 1:'Bourough', 2:'Neighborhood'})\n",
    "\n",
    "# Get rid of the first row which contained the table headers from the webpage\n",
    "data = data.iloc[1:]\n",
    "\n"
   ]
  },
  {
   "cell_type": "code",
   "execution_count": 4,
   "metadata": {},
   "outputs": [],
   "source": [
    "# Only process the cells that have an assigned borough. Ignore cells with a borough that is Not assigned.\n",
    "data = data[~data['Borough'].str.contains('Not assigned')]\n",
    "\n"
   ]
  },
  {
   "cell_type": "code",
   "execution_count": 5,
   "metadata": {},
   "outputs": [],
   "source": [
    "\n",
    "# More than one neighborhood can exist in one postal code area. \n",
    "#For example, in the table on the Wikipedia page, you will notice \n",
    "#that M5A is listed twice and has two neighborhoods: Harbourfront \n",
    "#and Regent Park. These two rows will be combined into one row with \n",
    "#the neighborhoods separated with a comma\n",
    "df2=data.groupby(['Postal Code', 'Borough']).apply(lambda group: ', '.join(group['Neighbourhood']))\n"
   ]
  },
  {
   "cell_type": "code",
   "execution_count": 6,
   "metadata": {},
   "outputs": [
    {
     "output_type": "execute_result",
     "data": {
      "text/plain": [
       "  Postal Code      Borough                            Neighborhood\n",
       "0         M1B  Scarborough                          Malvern, Rouge\n",
       "1         M1C  Scarborough  Rouge Hill, Port Union, Highland Creek\n",
       "2         M1E  Scarborough       Guildwood, Morningside, West Hill\n",
       "3         M1G  Scarborough                                  Woburn\n",
       "4         M1H  Scarborough                               Cedarbrae"
      ],
      "text/html": "<div>\n<style scoped>\n    .dataframe tbody tr th:only-of-type {\n        vertical-align: middle;\n    }\n\n    .dataframe tbody tr th {\n        vertical-align: top;\n    }\n\n    .dataframe thead th {\n        text-align: right;\n    }\n</style>\n<table border=\"1\" class=\"dataframe\">\n  <thead>\n    <tr style=\"text-align: right;\">\n      <th></th>\n      <th>Postal Code</th>\n      <th>Borough</th>\n      <th>Neighborhood</th>\n    </tr>\n  </thead>\n  <tbody>\n    <tr>\n      <td>0</td>\n      <td>M1B</td>\n      <td>Scarborough</td>\n      <td>Malvern, Rouge</td>\n    </tr>\n    <tr>\n      <td>1</td>\n      <td>M1C</td>\n      <td>Scarborough</td>\n      <td>Rouge Hill, Port Union, Highland Creek</td>\n    </tr>\n    <tr>\n      <td>2</td>\n      <td>M1E</td>\n      <td>Scarborough</td>\n      <td>Guildwood, Morningside, West Hill</td>\n    </tr>\n    <tr>\n      <td>3</td>\n      <td>M1G</td>\n      <td>Scarborough</td>\n      <td>Woburn</td>\n    </tr>\n    <tr>\n      <td>4</td>\n      <td>M1H</td>\n      <td>Scarborough</td>\n      <td>Cedarbrae</td>\n    </tr>\n  </tbody>\n</table>\n</div>"
     },
     "metadata": {},
     "execution_count": 6
    }
   ],
   "source": [
    "# Convert the Series back into a DataFrame and put the 'Neighbourhood' column label back in\n",
    "df2=df2.to_frame().reset_index()\n",
    "df2 = df2.rename(columns={0:'Neighborhood'})\n",
    "\n",
    "# If a cell has a borough but a Not assigned neighborhood, then the neighborhood will be the same as the borough.\n",
    "df2.loc[df2.Neighborhood == 'Not assigned', 'Neighborhood' ] = df2.Borough\n",
    "\n",
    "# Display the DataFrame\n",
    "df2.head()   "
   ]
  },
  {
   "cell_type": "code",
   "execution_count": 11,
   "metadata": {},
   "outputs": [
    {
     "output_type": "execute_result",
     "data": {
      "text/plain": [
       "  Postal Code      Borough                            Neighborhood   Latitude  \\\n",
       "0         M1B  Scarborough                          Malvern, Rouge  43.806686   \n",
       "1         M1C  Scarborough  Rouge Hill, Port Union, Highland Creek  43.784535   \n",
       "2         M1E  Scarborough       Guildwood, Morningside, West Hill  43.763573   \n",
       "3         M1G  Scarborough                                  Woburn  43.770992   \n",
       "4         M1H  Scarborough                               Cedarbrae  43.773136   \n",
       "\n",
       "   Longitude  \n",
       "0 -79.194353  \n",
       "1 -79.160497  \n",
       "2 -79.188711  \n",
       "3 -79.216917  \n",
       "4 -79.239476  "
      ],
      "text/html": "<div>\n<style scoped>\n    .dataframe tbody tr th:only-of-type {\n        vertical-align: middle;\n    }\n\n    .dataframe tbody tr th {\n        vertical-align: top;\n    }\n\n    .dataframe thead th {\n        text-align: right;\n    }\n</style>\n<table border=\"1\" class=\"dataframe\">\n  <thead>\n    <tr style=\"text-align: right;\">\n      <th></th>\n      <th>Postal Code</th>\n      <th>Borough</th>\n      <th>Neighborhood</th>\n      <th>Latitude</th>\n      <th>Longitude</th>\n    </tr>\n  </thead>\n  <tbody>\n    <tr>\n      <td>0</td>\n      <td>M1B</td>\n      <td>Scarborough</td>\n      <td>Malvern, Rouge</td>\n      <td>43.806686</td>\n      <td>-79.194353</td>\n    </tr>\n    <tr>\n      <td>1</td>\n      <td>M1C</td>\n      <td>Scarborough</td>\n      <td>Rouge Hill, Port Union, Highland Creek</td>\n      <td>43.784535</td>\n      <td>-79.160497</td>\n    </tr>\n    <tr>\n      <td>2</td>\n      <td>M1E</td>\n      <td>Scarborough</td>\n      <td>Guildwood, Morningside, West Hill</td>\n      <td>43.763573</td>\n      <td>-79.188711</td>\n    </tr>\n    <tr>\n      <td>3</td>\n      <td>M1G</td>\n      <td>Scarborough</td>\n      <td>Woburn</td>\n      <td>43.770992</td>\n      <td>-79.216917</td>\n    </tr>\n    <tr>\n      <td>4</td>\n      <td>M1H</td>\n      <td>Scarborough</td>\n      <td>Cedarbrae</td>\n      <td>43.773136</td>\n      <td>-79.239476</td>\n    </tr>\n  </tbody>\n</table>\n</div>"
     },
     "metadata": {},
     "execution_count": 11
    }
   ],
   "source": [
    "# Load Toronto geospatial cooridinates\n",
    "#!wget -O to_geo_space.csv http://cocl.us/Geospatial_data\n",
    "\n",
    "#Read into dataframe\n",
    "gf = pd.read_csv('to_geo_space.csv')\n",
    "\n",
    "#rename the coloumns so the match\n",
    "#gf = gf.rename(columns={'Postal Code':'PostalCode'})\n",
    "\n",
    "#Merge the Toronto data with geo cooridinate data\n",
    "gf_new = pd.merge(df2, gf, on='Postal Code', how='inner')\n",
    "\n",
    "# display the new dataframe\n",
    "gf_new.head()\n"
   ]
  },
  {
   "cell_type": "markdown",
   "metadata": {},
   "source": [
    "### 1.2 Toronto neighborhoods populations broken down by postal code"
   ]
  },
  {
   "cell_type": "code",
   "execution_count": 17,
   "metadata": {},
   "outputs": [
    {
     "output_type": "execute_result",
     "data": {
      "text/plain": [
       "  Postal Code  Population_2016\n",
       "1         A0A          46587.0\n",
       "2         A0B          19792.0\n",
       "3         A0C          12587.0\n",
       "4         A0E          22294.0\n",
       "5         A0G          35266.0"
      ],
      "text/html": "<div>\n<style scoped>\n    .dataframe tbody tr th:only-of-type {\n        vertical-align: middle;\n    }\n\n    .dataframe tbody tr th {\n        vertical-align: top;\n    }\n\n    .dataframe thead th {\n        text-align: right;\n    }\n</style>\n<table border=\"1\" class=\"dataframe\">\n  <thead>\n    <tr style=\"text-align: right;\">\n      <th></th>\n      <th>Postal Code</th>\n      <th>Population_2016</th>\n    </tr>\n  </thead>\n  <tbody>\n    <tr>\n      <td>1</td>\n      <td>A0A</td>\n      <td>46587.0</td>\n    </tr>\n    <tr>\n      <td>2</td>\n      <td>A0B</td>\n      <td>19792.0</td>\n    </tr>\n    <tr>\n      <td>3</td>\n      <td>A0C</td>\n      <td>12587.0</td>\n    </tr>\n    <tr>\n      <td>4</td>\n      <td>A0E</td>\n      <td>22294.0</td>\n    </tr>\n    <tr>\n      <td>5</td>\n      <td>A0G</td>\n      <td>35266.0</td>\n    </tr>\n  </tbody>\n</table>\n</div>"
     },
     "metadata": {},
     "execution_count": 17
    }
   ],
   "source": [
    "# Load this data from Stats Canada\n",
    "df_pop = pd.read_csv('stats_canada.CSV',encoding = 'unicode_escape')\n",
    "# Rename the columns appropiatley\n",
    "df_pop = df_pop.rename(columns={'Geographic code':'Postal Code', 'Geographic name':'PostalCod2', 'Province or territory':'Province', 'Incompletely enumerated Indian reserves and Indian settlements, 2016':'Incomplete', 'Population, 2016':'Population_2016', 'Total private dwellings, 2016':'TotalPrivDwellings', 'Private dwellings occupied by usual residents, 2016':'PrivDwellingsOccupied'})\n",
    "df_pop= df_pop.drop(columns=['PostalCod2', 'Province', 'Incomplete', 'TotalPrivDwellings', 'PrivDwellingsOccupied'])\n",
    "\n",
    "# Get rid of the first row \n",
    "df_pop = df_pop.iloc[1:]\n",
    "df_pop.head()"
   ]
  },
  {
   "cell_type": "markdown",
   "metadata": {},
   "source": [
    "### 1.2.1 Merge Toronto Neighbourhood populations data with Toronto Postal Code data"
   ]
  },
  {
   "cell_type": "code",
   "execution_count": 18,
   "metadata": {},
   "outputs": [
    {
     "output_type": "execute_result",
     "data": {
      "text/plain": [
       "    Postal Code  Population_2016      Borough  \\\n",
       "22          M2N          75897.0   North York   \n",
       "0           M1B          66108.0  Scarborough   \n",
       "18          M2J          58293.0   North York   \n",
       "100         M9V          55959.0    Etobicoke   \n",
       "14          M1V          54680.0  Scarborough   \n",
       "\n",
       "                                          Neighborhood   Latitude  Longitude  \n",
       "22                         Willowdale, Willowdale East  43.770120 -79.408493  \n",
       "0                                       Malvern, Rouge  43.806686 -79.194353  \n",
       "18                        Fairview, Henry Farm, Oriole  43.778517 -79.346556  \n",
       "100  South Steeles, Silverstone, Humbergate, Jamest...  43.739416 -79.588437  \n",
       "14   Milliken, Agincourt North, Steeles East, L'Amo...  43.815252 -79.284577  "
      ],
      "text/html": "<div>\n<style scoped>\n    .dataframe tbody tr th:only-of-type {\n        vertical-align: middle;\n    }\n\n    .dataframe tbody tr th {\n        vertical-align: top;\n    }\n\n    .dataframe thead th {\n        text-align: right;\n    }\n</style>\n<table border=\"1\" class=\"dataframe\">\n  <thead>\n    <tr style=\"text-align: right;\">\n      <th></th>\n      <th>Postal Code</th>\n      <th>Population_2016</th>\n      <th>Borough</th>\n      <th>Neighborhood</th>\n      <th>Latitude</th>\n      <th>Longitude</th>\n    </tr>\n  </thead>\n  <tbody>\n    <tr>\n      <td>22</td>\n      <td>M2N</td>\n      <td>75897.0</td>\n      <td>North York</td>\n      <td>Willowdale, Willowdale East</td>\n      <td>43.770120</td>\n      <td>-79.408493</td>\n    </tr>\n    <tr>\n      <td>0</td>\n      <td>M1B</td>\n      <td>66108.0</td>\n      <td>Scarborough</td>\n      <td>Malvern, Rouge</td>\n      <td>43.806686</td>\n      <td>-79.194353</td>\n    </tr>\n    <tr>\n      <td>18</td>\n      <td>M2J</td>\n      <td>58293.0</td>\n      <td>North York</td>\n      <td>Fairview, Henry Farm, Oriole</td>\n      <td>43.778517</td>\n      <td>-79.346556</td>\n    </tr>\n    <tr>\n      <td>100</td>\n      <td>M9V</td>\n      <td>55959.0</td>\n      <td>Etobicoke</td>\n      <td>South Steeles, Silverstone, Humbergate, Jamest...</td>\n      <td>43.739416</td>\n      <td>-79.588437</td>\n    </tr>\n    <tr>\n      <td>14</td>\n      <td>M1V</td>\n      <td>54680.0</td>\n      <td>Scarborough</td>\n      <td>Milliken, Agincourt North, Steeles East, L'Amo...</td>\n      <td>43.815252</td>\n      <td>-79.284577</td>\n    </tr>\n  </tbody>\n</table>\n</div>"
     },
     "metadata": {},
     "execution_count": 18
    }
   ],
   "source": [
    "#Merge the Toronto Pop data with geo postalcode data\n",
    "gf_new\n",
    "gf_new = pd.merge(df_pop, gf_new, on='Postal Code', how='right')\n",
    "# sort on population\n",
    "gf_new = gf_new.sort_values(by=['Population_2016'], ascending=False)\n",
    "\n",
    "# display the new dataframe\n",
    "gf_new.head()"
   ]
  },
  {
   "cell_type": "markdown",
   "metadata": {},
   "source": [
    "*** Key Observation here is a list of Toronto Neighborhoods Populations  ***"
   ]
  },
  {
   "cell_type": "markdown",
   "metadata": {},
   "source": [
    "### 1.3 Toronto neighborhoods average after tax income broken down by postal code\n",
    "\n",
    "### 1.3.1 Merge Toronto Neighbourhood income data with Toronto Postal Code data"
   ]
  },
  {
   "cell_type": "code",
   "execution_count": 20,
   "metadata": {},
   "outputs": [
    {
     "output_type": "execute_result",
     "data": {
      "text/plain": [
       "   Unnamed: 0 PostalCode  AfterTaxIncome2015  Population_2016  \\\n",
       "0          66        M2P            115237.0           7843.0   \n",
       "1          55        M5M            111821.0          25975.0   \n",
       "2          61        M4N            109841.0          15330.0   \n",
       "3          74        M5R            108271.0          26496.0   \n",
       "4          98        M8X             97210.0          10787.0   \n",
       "5          45        M2L             96512.0          11717.0   \n",
       "6          23        M4G             94853.0          19076.0   \n",
       "7          12        M1C             93943.0          35626.0   \n",
       "8          11        M9B             91110.0          32400.0   \n",
       "9           7        M3B             90841.0          13324.0   \n",
       "\n",
       "          Bourough                                       Neighborhood  \\\n",
       "0       North York                                    York Mills West   \n",
       "1       North York                  Bedford Park, Lawrence Manor East   \n",
       "2  Central Toronto                                      Lawrence Park   \n",
       "3  Central Toronto                The Annex, North Midtown, Yorkville   \n",
       "4        Etobicoke      The Kingsway, Montgomery Road, Old Mill North   \n",
       "5       North York                           Silver Hills, York Mills   \n",
       "6        East York                                            Leaside   \n",
       "7      Scarborough             Highland Creek, Rouge Hill, Port Union   \n",
       "8        Etobicoke  Cloverdale, Islington, Martin Grove, Princess ...   \n",
       "9       North York                                    Don Mills North   \n",
       "\n",
       "    Latitude  Longitude  \n",
       "0  43.752758 -79.400049  \n",
       "1  43.733283 -79.419750  \n",
       "2  43.728020 -79.388790  \n",
       "3  43.672710 -79.405678  \n",
       "4  43.653654 -79.506944  \n",
       "5  43.757490 -79.374714  \n",
       "6  43.709060 -79.363452  \n",
       "7  43.784535 -79.160497  \n",
       "8  43.650943 -79.554724  \n",
       "9  43.745906 -79.352188  "
      ],
      "text/html": "<div>\n<style scoped>\n    .dataframe tbody tr th:only-of-type {\n        vertical-align: middle;\n    }\n\n    .dataframe tbody tr th {\n        vertical-align: top;\n    }\n\n    .dataframe thead th {\n        text-align: right;\n    }\n</style>\n<table border=\"1\" class=\"dataframe\">\n  <thead>\n    <tr style=\"text-align: right;\">\n      <th></th>\n      <th>Unnamed: 0</th>\n      <th>PostalCode</th>\n      <th>AfterTaxIncome2015</th>\n      <th>Population_2016</th>\n      <th>Bourough</th>\n      <th>Neighborhood</th>\n      <th>Latitude</th>\n      <th>Longitude</th>\n    </tr>\n  </thead>\n  <tbody>\n    <tr>\n      <td>0</td>\n      <td>66</td>\n      <td>M2P</td>\n      <td>115237.0</td>\n      <td>7843.0</td>\n      <td>North York</td>\n      <td>York Mills West</td>\n      <td>43.752758</td>\n      <td>-79.400049</td>\n    </tr>\n    <tr>\n      <td>1</td>\n      <td>55</td>\n      <td>M5M</td>\n      <td>111821.0</td>\n      <td>25975.0</td>\n      <td>North York</td>\n      <td>Bedford Park, Lawrence Manor East</td>\n      <td>43.733283</td>\n      <td>-79.419750</td>\n    </tr>\n    <tr>\n      <td>2</td>\n      <td>61</td>\n      <td>M4N</td>\n      <td>109841.0</td>\n      <td>15330.0</td>\n      <td>Central Toronto</td>\n      <td>Lawrence Park</td>\n      <td>43.728020</td>\n      <td>-79.388790</td>\n    </tr>\n    <tr>\n      <td>3</td>\n      <td>74</td>\n      <td>M5R</td>\n      <td>108271.0</td>\n      <td>26496.0</td>\n      <td>Central Toronto</td>\n      <td>The Annex, North Midtown, Yorkville</td>\n      <td>43.672710</td>\n      <td>-79.405678</td>\n    </tr>\n    <tr>\n      <td>4</td>\n      <td>98</td>\n      <td>M8X</td>\n      <td>97210.0</td>\n      <td>10787.0</td>\n      <td>Etobicoke</td>\n      <td>The Kingsway, Montgomery Road, Old Mill North</td>\n      <td>43.653654</td>\n      <td>-79.506944</td>\n    </tr>\n    <tr>\n      <td>5</td>\n      <td>45</td>\n      <td>M2L</td>\n      <td>96512.0</td>\n      <td>11717.0</td>\n      <td>North York</td>\n      <td>Silver Hills, York Mills</td>\n      <td>43.757490</td>\n      <td>-79.374714</td>\n    </tr>\n    <tr>\n      <td>6</td>\n      <td>23</td>\n      <td>M4G</td>\n      <td>94853.0</td>\n      <td>19076.0</td>\n      <td>East York</td>\n      <td>Leaside</td>\n      <td>43.709060</td>\n      <td>-79.363452</td>\n    </tr>\n    <tr>\n      <td>7</td>\n      <td>12</td>\n      <td>M1C</td>\n      <td>93943.0</td>\n      <td>35626.0</td>\n      <td>Scarborough</td>\n      <td>Highland Creek, Rouge Hill, Port Union</td>\n      <td>43.784535</td>\n      <td>-79.160497</td>\n    </tr>\n    <tr>\n      <td>8</td>\n      <td>11</td>\n      <td>M9B</td>\n      <td>91110.0</td>\n      <td>32400.0</td>\n      <td>Etobicoke</td>\n      <td>Cloverdale, Islington, Martin Grove, Princess ...</td>\n      <td>43.650943</td>\n      <td>-79.554724</td>\n    </tr>\n    <tr>\n      <td>9</td>\n      <td>7</td>\n      <td>M3B</td>\n      <td>90841.0</td>\n      <td>13324.0</td>\n      <td>North York</td>\n      <td>Don Mills North</td>\n      <td>43.745906</td>\n      <td>-79.352188</td>\n    </tr>\n  </tbody>\n</table>\n</div>"
     },
     "metadata": {},
     "execution_count": 20
    }
   ],
   "source": [
    "# It was easier to extract this data manually from Stats Canada and load it then it was to scrape it.\n",
    "# It was only accessible from indeividual queries per postal code on the statscan web site.\n",
    "df_income = pd.read_csv('TorontoAvgIncomeByPC.csv',encoding = 'unicode_escape')\n",
    "# Rename the after tax income column to a more maanageable name\n",
    "df_income = df_income.rename(columns={\"after-tax income of households in 2015\":\"AfterTaxIncome2015\"})\n",
    "\n",
    "#Merge the Toronto Income data with geo postalcode data\n",
    "gf_new = pd.merge(df_income, gf_new, on='PostalCode', how='right')\n",
    "# get rid of the Nulls\n",
    "gf_new = gf_new.replace('Null', 0)\n",
    "#gf_new cast as float\n",
    "gf_new['AfterTaxIncome2015'] = gf_new['AfterTaxIncome2015'].astype('float64') \n",
    "# Sort on Income\n",
    "gf_new = gf_new.sort_values(by=['AfterTaxIncome2015'], ascending=False)\n",
    "# display the new dataframe\n",
    "gf_new.to_csv('TO_Affluence.csv')\n",
    "\n",
    "\n",
    "# display the new dataframe\n",
    "gf_new = pd.read_csv('TO_Affluence.csv',)\n",
    "gf_new.head(10)"
   ]
  },
  {
   "cell_type": "markdown",
   "metadata": {},
   "source": [
    "*** Key Observation Toronto Affluence by Neighborhood ***"
   ]
  },
  {
   "cell_type": "markdown",
   "metadata": {},
   "source": [
    "### 1.4 What is the Canadian National Average After Tax Income."
   ]
  },
  {
   "cell_type": "markdown",
   "metadata": {},
   "source": [
    "Again obtained from the Stats Canada Website\n",
    "Canadian families and unattached individuals had a median after-tax income of $57,000 in 2016. "
   ]
  },
  {
   "cell_type": "markdown",
   "metadata": {},
   "source": [
    "### 1.5 Toronto list of Restaurants or Venues that could potentially use Restaurant Equipment."
   ]
  },
  {
   "cell_type": "code",
   "execution_count": 21,
   "metadata": {},
   "outputs": [],
   "source": [
    "#FourSquare Credentials\n",
    "\n",
    "CLIENT_ID = 'ZMJ5WRVGRW5HMPBXBTVYBSX3UJL3WYMFPAMBHUCI23BBH5IZ' # your Foursquare ID\n",
    "\n",
    "\n",
    "CLIENT_SECRET = 'C1IIOKQSEEUI1E2MUHGOLGLVJ1RJVVEGMQJEIYN1YOTPYHOH' # your Foursquare Secret\n",
    "\n",
    "\n",
    "VERSION = '20180605' # Foursquare API version"
   ]
  },
  {
   "cell_type": "code",
   "execution_count": 22,
   "metadata": {},
   "outputs": [],
   "source": [
    "#Let's explore neighborhoods in our dataframe.\n",
    "import requests # library to handle requests\n",
    "from pandas.io.json import json_normalize # tranform JSON file into a pandas dataframe\n",
    "\n",
    "LIMIT = 200 # limit of number of venues returned by Foursquare API\n",
    "\n",
    "radius = 500 # define radius\n",
    "\n",
    "def getNearbyVenues(names, latitudes, longitudes, radius=500):\n",
    "    \n",
    "    venues_list=[]\n",
    "    for name, lat, lng in zip(names, latitudes, longitudes):\n",
    "        print(name)\n",
    "            \n",
    "        # create the API request URL\n",
    "        url = 'https://api.foursquare.com/v2/venues/explore?&client_id={}&client_secret={}&v={}&ll={},{}&radius={}&limit={}'.format(\n",
    "            CLIENT_ID, \n",
    "            CLIENT_SECRET, \n",
    "            VERSION, \n",
    "            lat, \n",
    "            lng, \n",
    "            radius, \n",
    "            LIMIT)\n",
    "            \n",
    "        # make the GET request\n",
    "        results = requests.get(url).json()[\"response\"]['groups'][0]['items']\n",
    "        \n",
    "        # return only relevant information for each nearby venue\n",
    "        venues_list.append([(\n",
    "            name, \n",
    "            lat, \n",
    "            lng, \n",
    "            v['venue']['name'], \n",
    "            v['venue']['location']['lat'], \n",
    "            v['venue']['location']['lng'],  \n",
    "            v['venue']['categories'][0]['name']) for v in results])\n",
    "\n",
    "    nearby_venues = pd.DataFrame([item for venue_list in venues_list for item in venue_list])\n",
    "    nearby_venues.columns = ['Neighborhood', \n",
    "                  'Neighborhood Latitude', \n",
    "                  'Neighborhood Longitude', \n",
    "                  'Venue', \n",
    "                  'Venue Latitude', \n",
    "                  'Venue Longitude', \n",
    "                  'Venue Category']\n",
    "    \n",
    "    return(nearby_venues)"
   ]
  },
  {
   "cell_type": "code",
   "execution_count": 32,
   "metadata": {},
   "outputs": [
    {
     "output_type": "execute_result",
     "data": {
      "text/plain": [
       "   Unnamed: 0 PostalCode  AfterTaxIncome2015  Population_2016  \\\n",
       "0          66        M2P            115237.0           7843.0   \n",
       "1          55        M5M            111821.0          25975.0   \n",
       "2          61        M4N            109841.0          15330.0   \n",
       "3          74        M5R            108271.0          26496.0   \n",
       "4          98        M8X             97210.0          10787.0   \n",
       "\n",
       "          Bourough                                   Neighborhood   Latitude  \\\n",
       "0       North York                                York Mills West  43.752758   \n",
       "1       North York              Bedford Park, Lawrence Manor East  43.733283   \n",
       "2  Central Toronto                                  Lawrence Park  43.728020   \n",
       "3  Central Toronto            The Annex, North Midtown, Yorkville  43.672710   \n",
       "4        Etobicoke  The Kingsway, Montgomery Road, Old Mill North  43.653654   \n",
       "\n",
       "   Longitude  \n",
       "0 -79.400049  \n",
       "1 -79.419750  \n",
       "2 -79.388790  \n",
       "3 -79.405678  \n",
       "4 -79.506944  "
      ],
      "text/html": "<div>\n<style scoped>\n    .dataframe tbody tr th:only-of-type {\n        vertical-align: middle;\n    }\n\n    .dataframe tbody tr th {\n        vertical-align: top;\n    }\n\n    .dataframe thead th {\n        text-align: right;\n    }\n</style>\n<table border=\"1\" class=\"dataframe\">\n  <thead>\n    <tr style=\"text-align: right;\">\n      <th></th>\n      <th>Unnamed: 0</th>\n      <th>PostalCode</th>\n      <th>AfterTaxIncome2015</th>\n      <th>Population_2016</th>\n      <th>Bourough</th>\n      <th>Neighborhood</th>\n      <th>Latitude</th>\n      <th>Longitude</th>\n    </tr>\n  </thead>\n  <tbody>\n    <tr>\n      <td>0</td>\n      <td>66</td>\n      <td>M2P</td>\n      <td>115237.0</td>\n      <td>7843.0</td>\n      <td>North York</td>\n      <td>York Mills West</td>\n      <td>43.752758</td>\n      <td>-79.400049</td>\n    </tr>\n    <tr>\n      <td>1</td>\n      <td>55</td>\n      <td>M5M</td>\n      <td>111821.0</td>\n      <td>25975.0</td>\n      <td>North York</td>\n      <td>Bedford Park, Lawrence Manor East</td>\n      <td>43.733283</td>\n      <td>-79.419750</td>\n    </tr>\n    <tr>\n      <td>2</td>\n      <td>61</td>\n      <td>M4N</td>\n      <td>109841.0</td>\n      <td>15330.0</td>\n      <td>Central Toronto</td>\n      <td>Lawrence Park</td>\n      <td>43.728020</td>\n      <td>-79.388790</td>\n    </tr>\n    <tr>\n      <td>3</td>\n      <td>74</td>\n      <td>M5R</td>\n      <td>108271.0</td>\n      <td>26496.0</td>\n      <td>Central Toronto</td>\n      <td>The Annex, North Midtown, Yorkville</td>\n      <td>43.672710</td>\n      <td>-79.405678</td>\n    </tr>\n    <tr>\n      <td>4</td>\n      <td>98</td>\n      <td>M8X</td>\n      <td>97210.0</td>\n      <td>10787.0</td>\n      <td>Etobicoke</td>\n      <td>The Kingsway, Montgomery Road, Old Mill North</td>\n      <td>43.653654</td>\n      <td>-79.506944</td>\n    </tr>\n  </tbody>\n</table>\n</div>"
     },
     "metadata": {},
     "execution_count": 32
    }
   ],
   "source": [
    "# Toronto Bouroughs\n",
    "TO_data = gf_new\n",
    "TO_data.drop(TO_data.columns[0], axis=1)\n",
    "TO_data.head()"
   ]
  },
  {
   "cell_type": "markdown",
   "metadata": {},
   "source": [
    "### 1.5.1 Get all the Venues in Toronto."
   ]
  },
  {
   "cell_type": "code",
   "execution_count": 33,
   "metadata": {},
   "outputs": [
    {
     "output_type": "stream",
     "name": "stdout",
     "text": [
      "York Mills West\n",
      "Bedford Park, Lawrence Manor East\n",
      "Lawrence Park\n",
      "The Annex, North Midtown, Yorkville\n",
      "The Kingsway, Montgomery Road, Old Mill North\n",
      "Silver Hills, York Mills\n",
      "Leaside\n",
      "Highland Creek, Rouge Hill, Port Union\n",
      "Cloverdale, Islington, Martin Grove, Princess Gardens, West Deane Park\n",
      "Don Mills North\n",
      "CN Tower, Bathurst Quay, Island airport, Harbourfront West, King and Spadina, Railway Lands, South Niagara\n",
      "East Toronto\n",
      "Upper Rouge\n",
      "Birch Cliff, Cliffside West\n",
      "Little Portugal, Trinity\n",
      "Rosedale\n",
      "Moore Park, Summerhill East\n",
      "Roselawn\n",
      "The Beaches\n",
      "Kingsway Park South West, Mimico NW, The Queensway West, Royal York South West, South of Bloor\n",
      "North Toronto West\n",
      "Runnymede, Swansea\n",
      "Berczy Park\n",
      "Forest Hill North, Forest Hill West\n",
      "Woodbine Heights\n",
      "Deer Park, Forest Hill SE, Rathnelly, South Hill, Summerhill West\n",
      "Harbourfront East, Toronto Islands, Union Station\n",
      "Adelaide, King, Richmond\n",
      "St. James Town\n",
      "The Beaches West, India Bazaar\n",
      "Bloordale Gardens, Eringate, Markland Wood, Old Burnhamthorpe\n",
      "Kingsview Village, Martin Grove Gardens, Richview Gardens, St. Phillips\n",
      "Parkdale, Roncesvalles\n",
      "Islington Avenue\n",
      "Fairview, Henry Farm, Oriole\n",
      "Studio District\n",
      "Hillcrest Village\n",
      "Westmount\n",
      "Davisville\n",
      "Christie\n",
      "Alderwood, Long Branch\n",
      "Bathurst Manor, Downsview North, Wilson Heights\n",
      "Humber Bay, King's Mill Park, Kingsway Park South East, Mimico NE, Old Mill South, The Queensway East, Royal York South East, Sunnylea\n",
      "Rouge, Malvern\n",
      "Clairlea, Golden Mile, Oakridge\n",
      "Humewood-Cedarvale\n",
      "Cliffcrest, Cliffside, Scarborough Village West\n",
      "Agincourt North, L'Amoreaux East, Milliken, Steeles East\n",
      "Northwest\n",
      "Bayview Village\n",
      "High Park, The Junction South\n",
      "L'Amoreaux West, Steeles West\n",
      "Glencairn\n",
      "Humber Summit\n",
      "Agincourt\n",
      "Parkwoods\n",
      "The Danforth West, Riverdale\n",
      "Emery, Humberlea\n",
      "CFB Toronto, Downsview East\n",
      "Dovercourt Village, Dufferin\n",
      "Guildwood, Morningside, West Hill\n",
      "Downsview West\n",
      "Albion Gardens, Beaumond Heights, Humbergate, Jamestown, Mount Olive, Silverstone, South Steeles, Thistletown\n",
      "Willowdale South\n",
      "Caledonia-Fairbanks\n",
      "Maryvale, Wexford\n",
      "Newtonbrook, Willowdale\n",
      "Woodbine Gardens, Parkview Hill\n",
      "Cedarbrae\n",
      "Humber Bay Shores, Mimico South, New Toronto\n",
      "Davisville North\n",
      "The Junction North, Runnymede\n",
      "Dorset Park, Scarborough Town Centre, Wexford Heights\n",
      "Flemingdon Park, Don Mills South\n",
      "Willowdale West\n",
      "Woburn\n",
      "Maple Leaf Park, North Park, Upwood Park\n",
      "Scarborough Village\n",
      "Downsview Central\n",
      "Northwood Park, York University\n",
      "Victoria Village\n",
      "Clarks Corners, Sullivan, Tam O'Shanter\n",
      "Lawrence Heights, Lawrence Manor\n",
      "East Birchmount Park, Ionview, Kennedy Park\n",
      "Del Ray, Keelesdale, Mount Dennis, Silverthorn\n",
      "Brockton, Exhibition Place, Parkdale Village\n",
      "Harbord, University of Toronto\n",
      "Harbourfront, Regent Park\n",
      "Church and Wellesley\n",
      "Weston\n",
      "Ryerson, Garden District\n",
      "Downsview Northwest\n",
      "Central Bay Street\n",
      "Thorncliffe Park\n",
      "Chinatown, Grange Park, Kensington Market\n",
      "Cabbagetown, St. James Town\n",
      "Commerce Court, Victoria Hotel\n",
      "Canada Post Gateway Processing Centre\n",
      "Queen's Park\n",
      "First Canadian Place, Underground city\n",
      "Design Exchange, Toronto Dominion Centre\n",
      "Business Reply Mail Processing Centre 969 Eastern\n",
      "Stn A PO Boxes 25 The Esplanade\n"
     ]
    }
   ],
   "source": [
    "# Get all of the Venues\n",
    "TO_venues = getNearbyVenues(names=TO_data['Neighborhood'],\n",
    "                                   latitudes=TO_data['Latitude'],\n",
    "                                   longitudes=TO_data['Longitude']\n",
    "                                  )"
   ]
  },
  {
   "cell_type": "markdown",
   "metadata": {},
   "source": [
    "Let's count the number of Venues per Neighorhood"
   ]
  },
  {
   "cell_type": "code",
   "execution_count": 34,
   "metadata": {},
   "outputs": [
    {
     "output_type": "execute_result",
     "data": {
      "text/plain": [
       "                                                    Neighborhood Latitude  \\\n",
       "Neighborhood                                                                \n",
       "Adelaide, King, Richmond                                               96   \n",
       "Agincourt                                                               4   \n",
       "Agincourt North, L'Amoreaux East, Milliken, Ste...                      3   \n",
       "Albion Gardens, Beaumond Heights, Humbergate, J...                      9   \n",
       "Alderwood, Long Branch                                                  7   \n",
       "...                                                                   ...   \n",
       "Willowdale West                                                         6   \n",
       "Woburn                                                                  4   \n",
       "Woodbine Gardens, Parkview Hill                                        11   \n",
       "Woodbine Heights                                                        6   \n",
       "York Mills West                                                         2   \n",
       "\n",
       "                                                    Neighborhood Longitude  \\\n",
       "Neighborhood                                                                 \n",
       "Adelaide, King, Richmond                                                96   \n",
       "Agincourt                                                                4   \n",
       "Agincourt North, L'Amoreaux East, Milliken, Ste...                       3   \n",
       "Albion Gardens, Beaumond Heights, Humbergate, J...                       9   \n",
       "Alderwood, Long Branch                                                   7   \n",
       "...                                                                    ...   \n",
       "Willowdale West                                                          6   \n",
       "Woburn                                                                   4   \n",
       "Woodbine Gardens, Parkview Hill                                         11   \n",
       "Woodbine Heights                                                         6   \n",
       "York Mills West                                                          2   \n",
       "\n",
       "                                                    Venue  Venue Latitude  \\\n",
       "Neighborhood                                                                \n",
       "Adelaide, King, Richmond                               96              96   \n",
       "Agincourt                                               4               4   \n",
       "Agincourt North, L'Amoreaux East, Milliken, Ste...      3               3   \n",
       "Albion Gardens, Beaumond Heights, Humbergate, J...      9               9   \n",
       "Alderwood, Long Branch                                  7               7   \n",
       "...                                                   ...             ...   \n",
       "Willowdale West                                         6               6   \n",
       "Woburn                                                  4               4   \n",
       "Woodbine Gardens, Parkview Hill                        11              11   \n",
       "Woodbine Heights                                        6               6   \n",
       "York Mills West                                         2               2   \n",
       "\n",
       "                                                    Venue Longitude  \\\n",
       "Neighborhood                                                          \n",
       "Adelaide, King, Richmond                                         96   \n",
       "Agincourt                                                         4   \n",
       "Agincourt North, L'Amoreaux East, Milliken, Ste...                3   \n",
       "Albion Gardens, Beaumond Heights, Humbergate, J...                9   \n",
       "Alderwood, Long Branch                                            7   \n",
       "...                                                             ...   \n",
       "Willowdale West                                                   6   \n",
       "Woburn                                                            4   \n",
       "Woodbine Gardens, Parkview Hill                                  11   \n",
       "Woodbine Heights                                                  6   \n",
       "York Mills West                                                   2   \n",
       "\n",
       "                                                    Venue Category  \n",
       "Neighborhood                                                        \n",
       "Adelaide, King, Richmond                                        96  \n",
       "Agincourt                                                        4  \n",
       "Agincourt North, L'Amoreaux East, Milliken, Ste...               3  \n",
       "Albion Gardens, Beaumond Heights, Humbergate, J...               9  \n",
       "Alderwood, Long Branch                                           7  \n",
       "...                                                            ...  \n",
       "Willowdale West                                                  6  \n",
       "Woburn                                                           4  \n",
       "Woodbine Gardens, Parkview Hill                                 11  \n",
       "Woodbine Heights                                                 6  \n",
       "York Mills West                                                  2  \n",
       "\n",
       "[100 rows x 6 columns]"
      ],
      "text/html": "<div>\n<style scoped>\n    .dataframe tbody tr th:only-of-type {\n        vertical-align: middle;\n    }\n\n    .dataframe tbody tr th {\n        vertical-align: top;\n    }\n\n    .dataframe thead th {\n        text-align: right;\n    }\n</style>\n<table border=\"1\" class=\"dataframe\">\n  <thead>\n    <tr style=\"text-align: right;\">\n      <th></th>\n      <th>Neighborhood Latitude</th>\n      <th>Neighborhood Longitude</th>\n      <th>Venue</th>\n      <th>Venue Latitude</th>\n      <th>Venue Longitude</th>\n      <th>Venue Category</th>\n    </tr>\n    <tr>\n      <th>Neighborhood</th>\n      <th></th>\n      <th></th>\n      <th></th>\n      <th></th>\n      <th></th>\n      <th></th>\n    </tr>\n  </thead>\n  <tbody>\n    <tr>\n      <td>Adelaide, King, Richmond</td>\n      <td>96</td>\n      <td>96</td>\n      <td>96</td>\n      <td>96</td>\n      <td>96</td>\n      <td>96</td>\n    </tr>\n    <tr>\n      <td>Agincourt</td>\n      <td>4</td>\n      <td>4</td>\n      <td>4</td>\n      <td>4</td>\n      <td>4</td>\n      <td>4</td>\n    </tr>\n    <tr>\n      <td>Agincourt North, L'Amoreaux East, Milliken, Steeles East</td>\n      <td>3</td>\n      <td>3</td>\n      <td>3</td>\n      <td>3</td>\n      <td>3</td>\n      <td>3</td>\n    </tr>\n    <tr>\n      <td>Albion Gardens, Beaumond Heights, Humbergate, Jamestown, Mount Olive, Silverstone, South Steeles, Thistletown</td>\n      <td>9</td>\n      <td>9</td>\n      <td>9</td>\n      <td>9</td>\n      <td>9</td>\n      <td>9</td>\n    </tr>\n    <tr>\n      <td>Alderwood, Long Branch</td>\n      <td>7</td>\n      <td>7</td>\n      <td>7</td>\n      <td>7</td>\n      <td>7</td>\n      <td>7</td>\n    </tr>\n    <tr>\n      <td>...</td>\n      <td>...</td>\n      <td>...</td>\n      <td>...</td>\n      <td>...</td>\n      <td>...</td>\n      <td>...</td>\n    </tr>\n    <tr>\n      <td>Willowdale West</td>\n      <td>6</td>\n      <td>6</td>\n      <td>6</td>\n      <td>6</td>\n      <td>6</td>\n      <td>6</td>\n    </tr>\n    <tr>\n      <td>Woburn</td>\n      <td>4</td>\n      <td>4</td>\n      <td>4</td>\n      <td>4</td>\n      <td>4</td>\n      <td>4</td>\n    </tr>\n    <tr>\n      <td>Woodbine Gardens, Parkview Hill</td>\n      <td>11</td>\n      <td>11</td>\n      <td>11</td>\n      <td>11</td>\n      <td>11</td>\n      <td>11</td>\n    </tr>\n    <tr>\n      <td>Woodbine Heights</td>\n      <td>6</td>\n      <td>6</td>\n      <td>6</td>\n      <td>6</td>\n      <td>6</td>\n      <td>6</td>\n    </tr>\n    <tr>\n      <td>York Mills West</td>\n      <td>2</td>\n      <td>2</td>\n      <td>2</td>\n      <td>2</td>\n      <td>2</td>\n      <td>2</td>\n    </tr>\n  </tbody>\n</table>\n<p>100 rows × 6 columns</p>\n</div>"
     },
     "metadata": {},
     "execution_count": 34
    }
   ],
   "source": [
    "TO_venues.groupby('Neighborhood').count()"
   ]
  },
  {
   "cell_type": "code",
   "execution_count": 35,
   "metadata": {},
   "outputs": [
    {
     "output_type": "stream",
     "name": "stdout",
     "text": [
      "Unique Venue Categories:\n"
     ]
    },
    {
     "output_type": "execute_result",
     "data": {
      "text/plain": [
       "['Convenience Store',\n",
       " 'Park',\n",
       " 'Café',\n",
       " 'Restaurant',\n",
       " 'Indian Restaurant',\n",
       " 'Italian Restaurant',\n",
       " 'Sushi Restaurant',\n",
       " 'Pub',\n",
       " 'Thai Restaurant',\n",
       " 'Coffee Shop',\n",
       " 'Comfort Food Restaurant',\n",
       " 'Juice Bar',\n",
       " 'Greek Restaurant',\n",
       " 'Liquor Store',\n",
       " 'Pharmacy',\n",
       " 'Sandwich Place',\n",
       " 'Grocery Store',\n",
       " 'Butcher',\n",
       " 'American Restaurant',\n",
       " 'Pizza Place',\n",
       " 'Dim Sum Restaurant',\n",
       " 'Swim School',\n",
       " 'Bus Line',\n",
       " 'Burger Joint',\n",
       " 'BBQ Joint',\n",
       " 'History Museum',\n",
       " 'Middle Eastern Restaurant',\n",
       " 'Donut Shop',\n",
       " 'Pool',\n",
       " 'River',\n",
       " 'Martial Arts School',\n",
       " 'Sports Bar',\n",
       " 'Sporting Goods Shop',\n",
       " 'Fish & Chips Shop',\n",
       " 'Bike Shop',\n",
       " 'Supermarket',\n",
       " 'Pet Store',\n",
       " 'Smoothie Shop',\n",
       " 'Shopping Mall',\n",
       " 'Bank',\n",
       " 'Dessert Shop',\n",
       " 'Brewery',\n",
       " 'Department Store',\n",
       " 'Beer Store',\n",
       " 'Breakfast Spot',\n",
       " 'Furniture / Home Store',\n",
       " 'Mexican Restaurant',\n",
       " 'Bagel Shop',\n",
       " 'Construction & Landscaping',\n",
       " 'Bar',\n",
       " 'Caribbean Restaurant',\n",
       " 'Gym',\n",
       " 'Japanese Restaurant',\n",
       " 'Athletics & Sports',\n",
       " 'Airport',\n",
       " 'Airport Lounge',\n",
       " 'Harbor / Marina',\n",
       " 'Airport Food Court',\n",
       " 'Airport Terminal',\n",
       " 'Airport Gate',\n",
       " 'Plane',\n",
       " 'Boutique',\n",
       " 'Airport Service',\n",
       " 'Rental Car Location',\n",
       " 'Sculpture Garden',\n",
       " 'Boat or Ferry',\n",
       " 'General Entertainment',\n",
       " 'Skating Rink',\n",
       " 'College Stadium',\n",
       " 'Asian Restaurant',\n",
       " 'Wine Bar',\n",
       " 'Korean Restaurant',\n",
       " 'Ice Cream Shop',\n",
       " 'New American Restaurant',\n",
       " 'Cocktail Bar',\n",
       " 'Cuban Restaurant',\n",
       " 'Vietnamese Restaurant',\n",
       " 'Theater',\n",
       " 'Art Gallery',\n",
       " 'Yoga Studio',\n",
       " 'French Restaurant',\n",
       " 'Record Shop',\n",
       " 'Vegetarian / Vegan Restaurant',\n",
       " \"Men's Store\",\n",
       " 'Miscellaneous Shop',\n",
       " 'Cupcake Shop',\n",
       " 'Diner',\n",
       " 'Gift Shop',\n",
       " 'Playground',\n",
       " 'Trail',\n",
       " 'Tennis Court',\n",
       " 'Home Service',\n",
       " 'Garden',\n",
       " 'Health Food Store',\n",
       " 'Neighborhood',\n",
       " 'Wings Joint',\n",
       " 'Discount Store',\n",
       " 'Supplement Shop',\n",
       " 'Bakery',\n",
       " 'Fast Food Restaurant',\n",
       " 'Hardware Store',\n",
       " 'Tanning Salon',\n",
       " 'Burrito Place',\n",
       " 'Salon / Barbershop',\n",
       " 'Spa',\n",
       " 'Clothing Store',\n",
       " 'Chinese Restaurant',\n",
       " 'Cosmetics Shop',\n",
       " 'Gym / Fitness Center',\n",
       " 'Bookstore',\n",
       " 'Falafel Restaurant',\n",
       " 'Latin American Restaurant',\n",
       " 'Gourmet Shop',\n",
       " 'Indie Movie Theater',\n",
       " 'Metro Station',\n",
       " 'Scenic Lookout',\n",
       " 'Tea Room',\n",
       " 'Concert Hall',\n",
       " 'Museum',\n",
       " 'Farmers Market',\n",
       " 'Fountain',\n",
       " 'Seafood Restaurant',\n",
       " 'Bistro',\n",
       " 'Basketball Stadium',\n",
       " 'Beer Bar',\n",
       " 'Cheese Shop',\n",
       " 'Jazz Club',\n",
       " 'Fish Market',\n",
       " 'Creperie',\n",
       " 'Tailor Shop',\n",
       " 'Beach',\n",
       " 'Steakhouse',\n",
       " 'Irish Pub',\n",
       " 'Eastern European Restaurant',\n",
       " 'Hotel',\n",
       " 'Nightclub',\n",
       " 'Lounge',\n",
       " 'Jewelry Store',\n",
       " 'Curling Ice',\n",
       " 'Dance Studio',\n",
       " 'Fried Chicken Joint',\n",
       " 'Light Rail Station',\n",
       " 'Lake',\n",
       " 'Performing Arts Venue',\n",
       " 'Plaza',\n",
       " 'Salad Place',\n",
       " 'IT Services',\n",
       " 'Deli / Bodega',\n",
       " 'Roof Deck',\n",
       " 'Train Station',\n",
       " 'Aquarium',\n",
       " 'Bubble Tea Shop',\n",
       " 'Monument / Landmark',\n",
       " 'Baseball Stadium',\n",
       " 'Music Venue',\n",
       " 'Food Court',\n",
       " 'Hotel Bar',\n",
       " 'Speakeasy',\n",
       " 'Opera House',\n",
       " 'Smoke Shop',\n",
       " 'Gastropub',\n",
       " 'Ramen Restaurant',\n",
       " 'Colombian Restaurant',\n",
       " 'Mediterranean Restaurant',\n",
       " 'Brazilian Restaurant',\n",
       " 'Gluten-free Restaurant',\n",
       " 'Noodle House',\n",
       " 'Electronics Store',\n",
       " 'Art Museum',\n",
       " 'Modern European Restaurant',\n",
       " 'Event Space',\n",
       " 'Office',\n",
       " 'Building',\n",
       " 'Soup Place',\n",
       " 'Food Truck',\n",
       " 'Poke Place',\n",
       " 'Camera Store',\n",
       " 'German Restaurant',\n",
       " 'Lingerie Store',\n",
       " 'Moroccan Restaurant',\n",
       " 'Belgian Restaurant',\n",
       " 'Movie Theater',\n",
       " 'Board Shop',\n",
       " 'Shopping Plaza',\n",
       " 'Mobile Phone Shop',\n",
       " 'Dog Run',\n",
       " 'Toy / Game Store',\n",
       " 'Chocolate Shop',\n",
       " 'Video Game Store',\n",
       " \"Women's Store\",\n",
       " 'Shoe Store',\n",
       " 'Distribution Center',\n",
       " 'Luggage Store',\n",
       " 'Bus Station',\n",
       " 'Intersection',\n",
       " 'Baseball Field',\n",
       " 'Gay Bar',\n",
       " 'Stationery Store',\n",
       " 'Coworking Space',\n",
       " 'Golf Course',\n",
       " 'Gas Station',\n",
       " 'Candy Store',\n",
       " 'Baby Store',\n",
       " 'Bridal Shop',\n",
       " 'Frozen Yogurt Shop',\n",
       " 'Soccer Field',\n",
       " 'Field',\n",
       " 'Hockey Arena',\n",
       " 'Motel',\n",
       " 'Drugstore',\n",
       " 'Garden Center',\n",
       " 'Truck Stop',\n",
       " 'Flea Market',\n",
       " 'Arts & Crafts Store',\n",
       " 'Antique Shop',\n",
       " 'Cajun / Creole Restaurant',\n",
       " 'Food & Drink Shop',\n",
       " 'Fruit & Vegetable Store',\n",
       " 'Tibetan Restaurant',\n",
       " 'Paper / Office Supplies Store',\n",
       " 'Business Service',\n",
       " 'Medical Center',\n",
       " 'Auto Garage',\n",
       " 'Hakka Restaurant',\n",
       " 'Flower Shop',\n",
       " 'Korean BBQ Restaurant',\n",
       " 'Massage Studio',\n",
       " 'Portuguese Restaurant',\n",
       " 'Accessories Store',\n",
       " 'Hobby Shop',\n",
       " 'Climbing Gym',\n",
       " 'Stadium',\n",
       " 'College Gym',\n",
       " 'College Arts Building',\n",
       " 'Historic Site',\n",
       " 'Wine Shop',\n",
       " 'Theme Restaurant',\n",
       " 'Escape Room',\n",
       " 'Ethiopian Restaurant',\n",
       " 'Sake Bar',\n",
       " 'Health & Beauty Service',\n",
       " 'Strip Club',\n",
       " 'Comic Shop',\n",
       " 'College Rec Center',\n",
       " 'Other Great Outdoors',\n",
       " 'Hookah Bar',\n",
       " 'Poutine Place',\n",
       " 'Warehouse Store',\n",
       " 'Housing Development',\n",
       " 'Organic Grocery',\n",
       " 'Gaming Cafe',\n",
       " 'Filipino Restaurant',\n",
       " 'Doner Restaurant',\n",
       " 'Hospital',\n",
       " 'Bed & Breakfast',\n",
       " 'Knitting Store',\n",
       " 'Taiwanese Restaurant',\n",
       " 'Market',\n",
       " 'Snack Place',\n",
       " 'College Auditorium',\n",
       " 'General Travel',\n",
       " 'Taco Place',\n",
       " 'Skate Park',\n",
       " 'Auto Workshop',\n",
       " 'Molecular Gastronomy Restaurant',\n",
       " 'Church',\n",
       " 'Optical Shop']"
      ]
     },
     "metadata": {},
     "execution_count": 35
    }
   ],
   "source": [
    "# Let's pick out restaurants from Venue Categories\n",
    "\n",
    "print('Unique Venue Categories:')\n",
    "list(TO_venues['Venue Category'].unique())"
   ]
  },
  {
   "cell_type": "markdown",
   "metadata": {},
   "source": [
    "### 1.5.2 Only add Restaurants as Venue Categories"
   ]
  },
  {
   "cell_type": "code",
   "execution_count": 36,
   "metadata": {},
   "outputs": [
    {
     "output_type": "execute_result",
     "data": {
      "text/plain": [
       "                                                    Neighborhood Latitude  \\\n",
       "Neighborhood                                                                \n",
       "Adelaide, King, Richmond                                               54   \n",
       "Agincourt                                                               3   \n",
       "Albion Gardens, Beaumond Heights, Humbergate, J...                      5   \n",
       "Alderwood, Long Branch                                                  5   \n",
       "Bathurst Manor, Downsview North, Wilson Heights                        12   \n",
       "...                                                                   ...   \n",
       "Westmount                                                               6   \n",
       "Willowdale South                                                       21   \n",
       "Willowdale West                                                         2   \n",
       "Woburn                                                                  2   \n",
       "Woodbine Gardens, Parkview Hill                                         5   \n",
       "\n",
       "                                                    Neighborhood Longitude  \\\n",
       "Neighborhood                                                                 \n",
       "Adelaide, King, Richmond                                                54   \n",
       "Agincourt                                                                3   \n",
       "Albion Gardens, Beaumond Heights, Humbergate, J...                       5   \n",
       "Alderwood, Long Branch                                                   5   \n",
       "Bathurst Manor, Downsview North, Wilson Heights                         12   \n",
       "...                                                                    ...   \n",
       "Westmount                                                                6   \n",
       "Willowdale South                                                        21   \n",
       "Willowdale West                                                          2   \n",
       "Woburn                                                                   2   \n",
       "Woodbine Gardens, Parkview Hill                                          5   \n",
       "\n",
       "                                                    Venue  Venue Latitude  \\\n",
       "Neighborhood                                                                \n",
       "Adelaide, King, Richmond                               54              54   \n",
       "Agincourt                                               3               3   \n",
       "Albion Gardens, Beaumond Heights, Humbergate, J...      5               5   \n",
       "Alderwood, Long Branch                                  5               5   \n",
       "Bathurst Manor, Downsview North, Wilson Heights        12              12   \n",
       "...                                                   ...             ...   \n",
       "Westmount                                               6               6   \n",
       "Willowdale South                                       21              21   \n",
       "Willowdale West                                         2               2   \n",
       "Woburn                                                  2               2   \n",
       "Woodbine Gardens, Parkview Hill                         5               5   \n",
       "\n",
       "                                                    Venue Longitude  \\\n",
       "Neighborhood                                                          \n",
       "Adelaide, King, Richmond                                         54   \n",
       "Agincourt                                                         3   \n",
       "Albion Gardens, Beaumond Heights, Humbergate, J...                5   \n",
       "Alderwood, Long Branch                                            5   \n",
       "Bathurst Manor, Downsview North, Wilson Heights                  12   \n",
       "...                                                             ...   \n",
       "Westmount                                                         6   \n",
       "Willowdale South                                                 21   \n",
       "Willowdale West                                                   2   \n",
       "Woburn                                                            2   \n",
       "Woodbine Gardens, Parkview Hill                                   5   \n",
       "\n",
       "                                                    Venue Category  \n",
       "Neighborhood                                                        \n",
       "Adelaide, King, Richmond                                        54  \n",
       "Agincourt                                                        3  \n",
       "Albion Gardens, Beaumond Heights, Humbergate, J...               5  \n",
       "Alderwood, Long Branch                                           5  \n",
       "Bathurst Manor, Downsview North, Wilson Heights                 12  \n",
       "...                                                            ...  \n",
       "Westmount                                                        6  \n",
       "Willowdale South                                                21  \n",
       "Willowdale West                                                  2  \n",
       "Woburn                                                           2  \n",
       "Woodbine Gardens, Parkview Hill                                  5  \n",
       "\n",
       "[82 rows x 6 columns]"
      ],
      "text/html": "<div>\n<style scoped>\n    .dataframe tbody tr th:only-of-type {\n        vertical-align: middle;\n    }\n\n    .dataframe tbody tr th {\n        vertical-align: top;\n    }\n\n    .dataframe thead th {\n        text-align: right;\n    }\n</style>\n<table border=\"1\" class=\"dataframe\">\n  <thead>\n    <tr style=\"text-align: right;\">\n      <th></th>\n      <th>Neighborhood Latitude</th>\n      <th>Neighborhood Longitude</th>\n      <th>Venue</th>\n      <th>Venue Latitude</th>\n      <th>Venue Longitude</th>\n      <th>Venue Category</th>\n    </tr>\n    <tr>\n      <th>Neighborhood</th>\n      <th></th>\n      <th></th>\n      <th></th>\n      <th></th>\n      <th></th>\n      <th></th>\n    </tr>\n  </thead>\n  <tbody>\n    <tr>\n      <td>Adelaide, King, Richmond</td>\n      <td>54</td>\n      <td>54</td>\n      <td>54</td>\n      <td>54</td>\n      <td>54</td>\n      <td>54</td>\n    </tr>\n    <tr>\n      <td>Agincourt</td>\n      <td>3</td>\n      <td>3</td>\n      <td>3</td>\n      <td>3</td>\n      <td>3</td>\n      <td>3</td>\n    </tr>\n    <tr>\n      <td>Albion Gardens, Beaumond Heights, Humbergate, Jamestown, Mount Olive, Silverstone, South Steeles, Thistletown</td>\n      <td>5</td>\n      <td>5</td>\n      <td>5</td>\n      <td>5</td>\n      <td>5</td>\n      <td>5</td>\n    </tr>\n    <tr>\n      <td>Alderwood, Long Branch</td>\n      <td>5</td>\n      <td>5</td>\n      <td>5</td>\n      <td>5</td>\n      <td>5</td>\n      <td>5</td>\n    </tr>\n    <tr>\n      <td>Bathurst Manor, Downsview North, Wilson Heights</td>\n      <td>12</td>\n      <td>12</td>\n      <td>12</td>\n      <td>12</td>\n      <td>12</td>\n      <td>12</td>\n    </tr>\n    <tr>\n      <td>...</td>\n      <td>...</td>\n      <td>...</td>\n      <td>...</td>\n      <td>...</td>\n      <td>...</td>\n      <td>...</td>\n    </tr>\n    <tr>\n      <td>Westmount</td>\n      <td>6</td>\n      <td>6</td>\n      <td>6</td>\n      <td>6</td>\n      <td>6</td>\n      <td>6</td>\n    </tr>\n    <tr>\n      <td>Willowdale South</td>\n      <td>21</td>\n      <td>21</td>\n      <td>21</td>\n      <td>21</td>\n      <td>21</td>\n      <td>21</td>\n    </tr>\n    <tr>\n      <td>Willowdale West</td>\n      <td>2</td>\n      <td>2</td>\n      <td>2</td>\n      <td>2</td>\n      <td>2</td>\n      <td>2</td>\n    </tr>\n    <tr>\n      <td>Woburn</td>\n      <td>2</td>\n      <td>2</td>\n      <td>2</td>\n      <td>2</td>\n      <td>2</td>\n      <td>2</td>\n    </tr>\n    <tr>\n      <td>Woodbine Gardens, Parkview Hill</td>\n      <td>5</td>\n      <td>5</td>\n      <td>5</td>\n      <td>5</td>\n      <td>5</td>\n      <td>5</td>\n    </tr>\n  </tbody>\n</table>\n<p>82 rows × 6 columns</p>\n</div>"
     },
     "metadata": {},
     "execution_count": 36
    }
   ],
   "source": [
    "# Here we manually pick out restaurants or 'features' from the unique venue list and that we want to examine for similiarity during clustering\n",
    "rest_list = ['Steakhouse', 'Coffee Shop', 'Café', 'Ramen Restaurant', 'Indonesian Restaurant', 'Restaurant', 'Japanese Restaurant', \n",
    "             'Fast Food Restaurant', 'Sushi Restaurant', 'Vietnamese Restaurant', 'Pizza Place', 'Sandwich Place', 'Middle Eastern Restaurant', \n",
    "             'Burger Joint', 'American Restaurant', 'Food Court', 'Wings Joint', 'Burrito Place', 'Asian Restaurant', 'Deli / Bodega', \n",
    "             'Greek Restaurant', 'Fried Chicken Joint', 'Airport Food Court', 'Chinese Restaurant', 'Breakfast Spot', 'Mexican Restaurant',\n",
    "             'Indian Restaurant', 'Latin American Restaurant', 'Bar', 'Pub', 'Italian Restaurant', 'French Restaurant', 'Ice Cream Shop', \n",
    "             'Caribbean Restaurant', 'Gastropub', 'Thai Restaurant', 'Cajun / Creole Restaurant', 'Diner', 'Dim Sum Restaurant', 'Seafood Restaurant', \n",
    "             'Food & Drink Shop', 'Noodle House', 'Food', 'Fish & Chips Shop', 'Falafel Restaurant', 'Gourmet Shop', 'Vegetarian / Vegan Restaurant', \n",
    "             'South American Restaurant', 'Korean Restaurant', 'Cuban Restaurant', 'New American Restaurant', 'Malay Restaurant', 'Mac & Cheese Joint',\n",
    "             'Bistro', 'Southern / Soul Food Restaurant', 'Tapas Restaurant',  'Sports Bar', 'Polish Restaurant', 'Ethiopian Restaurant', \n",
    "             'Creperie', 'Sake Bar', 'Persian Restaurant', 'Afghan Restaurant','Mediterranean Restaurant', 'BBQ Joint', 'Jewish Restaurant', \n",
    "             'Comfort Food Restaurant',  'Hakka Restaurant', 'Food Truck', 'Taiwanese Restaurant',  'Snack Place', 'Eastern European Restaurant', \n",
    "             'Dumpling Restaurant', 'Belgian Restaurant', 'Arepa Restaurant', 'Taco Place', 'Doner Restaurant', 'Filipino Restaurant', \n",
    "             'Hotpot Restaurant', 'Poutine Place', 'Salad Place',  'Portuguese Restaurant', 'Modern European Restaurant', 'Empanada Restaurant', \n",
    "             'Irish Pub', 'Molecular Gastronomy Restaurant', 'German Restaurant', 'Brazilian Restaurant', 'Gluten-free Restaurant', 'Soup Place']\n",
    "\n",
    "rest_pd = pd.DataFrame(rest_list)\n",
    "#rest_pd\n",
    "#rename the coloumns so the match\n",
    "rest_pd = rest_pd.rename(columns={0:'Venue Category'})\n",
    "\n",
    "#Join the 2 dataframes as instructed\n",
    "TO_new = pd.merge(TO_venues, rest_pd, on='Venue Category', how='right')\n",
    "\n",
    "# display the new dataframe\n",
    "#TO_new\n",
    "\n",
    "TO_new.groupby('Neighborhood').count()"
   ]
  },
  {
   "cell_type": "markdown",
   "metadata": {},
   "source": [
    "### 1.5.3 OneHot encode and count restaurants"
   ]
  },
  {
   "cell_type": "code",
   "execution_count": 37,
   "metadata": {},
   "outputs": [
    {
     "output_type": "execute_result",
     "data": {
      "text/plain": [
       "                          Neighborhood  Afghan Restaurant  Airport Food Court  \\\n",
       "0    Bedford Park, Lawrence Manor East                  0                   0   \n",
       "1  The Annex, North Midtown, Yorkville                  0                   0   \n",
       "2  The Annex, North Midtown, Yorkville                  0                   0   \n",
       "3  The Annex, North Midtown, Yorkville                  0                   0   \n",
       "4                      Don Mills North                  0                   0   \n",
       "\n",
       "   American Restaurant  Arepa Restaurant  Asian Restaurant  BBQ Joint  Bar  \\\n",
       "0                    0                 0                 0          0    0   \n",
       "1                    0                 0                 0          0    0   \n",
       "2                    0                 0                 0          0    0   \n",
       "3                    0                 0                 0          0    0   \n",
       "4                    0                 0                 0          0    0   \n",
       "\n",
       "   Belgian Restaurant  Bistro  ...  Sports Bar  Steakhouse  Sushi Restaurant  \\\n",
       "0                   0       0  ...           0           0                 0   \n",
       "1                   0       0  ...           0           0                 0   \n",
       "2                   0       0  ...           0           0                 0   \n",
       "3                   0       0  ...           0           0                 0   \n",
       "4                   0       0  ...           0           0                 0   \n",
       "\n",
       "   Taco Place  Taiwanese Restaurant  Tapas Restaurant  Thai Restaurant  \\\n",
       "0           0                     0                 0                0   \n",
       "1           0                     0                 0                0   \n",
       "2           0                     0                 0                0   \n",
       "3           0                     0                 0                0   \n",
       "4           0                     0                 0                0   \n",
       "\n",
       "   Vegetarian / Vegan Restaurant  Vietnamese Restaurant  Wings Joint  \n",
       "0                              0                      0            0  \n",
       "1                              0                      0            0  \n",
       "2                              0                      0            0  \n",
       "3                              0                      0            0  \n",
       "4                              0                      0            0  \n",
       "\n",
       "[5 rows x 91 columns]"
      ],
      "text/html": "<div>\n<style scoped>\n    .dataframe tbody tr th:only-of-type {\n        vertical-align: middle;\n    }\n\n    .dataframe tbody tr th {\n        vertical-align: top;\n    }\n\n    .dataframe thead th {\n        text-align: right;\n    }\n</style>\n<table border=\"1\" class=\"dataframe\">\n  <thead>\n    <tr style=\"text-align: right;\">\n      <th></th>\n      <th>Neighborhood</th>\n      <th>Afghan Restaurant</th>\n      <th>Airport Food Court</th>\n      <th>American Restaurant</th>\n      <th>Arepa Restaurant</th>\n      <th>Asian Restaurant</th>\n      <th>BBQ Joint</th>\n      <th>Bar</th>\n      <th>Belgian Restaurant</th>\n      <th>Bistro</th>\n      <th>...</th>\n      <th>Sports Bar</th>\n      <th>Steakhouse</th>\n      <th>Sushi Restaurant</th>\n      <th>Taco Place</th>\n      <th>Taiwanese Restaurant</th>\n      <th>Tapas Restaurant</th>\n      <th>Thai Restaurant</th>\n      <th>Vegetarian / Vegan Restaurant</th>\n      <th>Vietnamese Restaurant</th>\n      <th>Wings Joint</th>\n    </tr>\n  </thead>\n  <tbody>\n    <tr>\n      <td>0</td>\n      <td>Bedford Park, Lawrence Manor East</td>\n      <td>0</td>\n      <td>0</td>\n      <td>0</td>\n      <td>0</td>\n      <td>0</td>\n      <td>0</td>\n      <td>0</td>\n      <td>0</td>\n      <td>0</td>\n      <td>...</td>\n      <td>0</td>\n      <td>0</td>\n      <td>0</td>\n      <td>0</td>\n      <td>0</td>\n      <td>0</td>\n      <td>0</td>\n      <td>0</td>\n      <td>0</td>\n      <td>0</td>\n    </tr>\n    <tr>\n      <td>1</td>\n      <td>The Annex, North Midtown, Yorkville</td>\n      <td>0</td>\n      <td>0</td>\n      <td>0</td>\n      <td>0</td>\n      <td>0</td>\n      <td>0</td>\n      <td>0</td>\n      <td>0</td>\n      <td>0</td>\n      <td>...</td>\n      <td>0</td>\n      <td>0</td>\n      <td>0</td>\n      <td>0</td>\n      <td>0</td>\n      <td>0</td>\n      <td>0</td>\n      <td>0</td>\n      <td>0</td>\n      <td>0</td>\n    </tr>\n    <tr>\n      <td>2</td>\n      <td>The Annex, North Midtown, Yorkville</td>\n      <td>0</td>\n      <td>0</td>\n      <td>0</td>\n      <td>0</td>\n      <td>0</td>\n      <td>0</td>\n      <td>0</td>\n      <td>0</td>\n      <td>0</td>\n      <td>...</td>\n      <td>0</td>\n      <td>0</td>\n      <td>0</td>\n      <td>0</td>\n      <td>0</td>\n      <td>0</td>\n      <td>0</td>\n      <td>0</td>\n      <td>0</td>\n      <td>0</td>\n    </tr>\n    <tr>\n      <td>3</td>\n      <td>The Annex, North Midtown, Yorkville</td>\n      <td>0</td>\n      <td>0</td>\n      <td>0</td>\n      <td>0</td>\n      <td>0</td>\n      <td>0</td>\n      <td>0</td>\n      <td>0</td>\n      <td>0</td>\n      <td>...</td>\n      <td>0</td>\n      <td>0</td>\n      <td>0</td>\n      <td>0</td>\n      <td>0</td>\n      <td>0</td>\n      <td>0</td>\n      <td>0</td>\n      <td>0</td>\n      <td>0</td>\n    </tr>\n    <tr>\n      <td>4</td>\n      <td>Don Mills North</td>\n      <td>0</td>\n      <td>0</td>\n      <td>0</td>\n      <td>0</td>\n      <td>0</td>\n      <td>0</td>\n      <td>0</td>\n      <td>0</td>\n      <td>0</td>\n      <td>...</td>\n      <td>0</td>\n      <td>0</td>\n      <td>0</td>\n      <td>0</td>\n      <td>0</td>\n      <td>0</td>\n      <td>0</td>\n      <td>0</td>\n      <td>0</td>\n      <td>0</td>\n    </tr>\n  </tbody>\n</table>\n<p>5 rows × 91 columns</p>\n</div>"
     },
     "metadata": {},
     "execution_count": 37
    }
   ],
   "source": [
    "\n",
    "# one hot encoding\n",
    "TO_new_onehot = pd.get_dummies(TO_new[['Venue Category']], prefix=\"\", prefix_sep=\"\")\n",
    "\n",
    "# add neighborhood column back to dataframe\n",
    "TO_new_onehot['Neighborhood'] = TO_new['Neighborhood'] \n",
    "\n",
    "\n",
    "# move neighborhood column to the first column\n",
    "fixed_columns = [TO_new_onehot.columns[-1]] + list(TO_new_onehot.columns[:-1])\n",
    "TO_new_onehot = TO_new_onehot[fixed_columns]\n",
    "\n",
    "TO_new_onehot.head()\n"
   ]
  },
  {
   "cell_type": "code",
   "execution_count": 38,
   "metadata": {},
   "outputs": [
    {
     "output_type": "execute_result",
     "data": {
      "text/plain": [
       "                                        Neighborhood  Afghan Restaurant  \\\n",
       "0                           Adelaide, King, Richmond                0.0   \n",
       "1                                          Agincourt                0.0   \n",
       "2  Albion Gardens, Beaumond Heights, Humbergate, ...                0.0   \n",
       "3                             Alderwood, Long Branch                0.0   \n",
       "4    Bathurst Manor, Downsview North, Wilson Heights                0.0   \n",
       "\n",
       "   Airport Food Court  American Restaurant  Arepa Restaurant  \\\n",
       "0                 0.0             0.037037               0.0   \n",
       "1                 0.0             0.000000               0.0   \n",
       "2                 0.0             0.000000               0.0   \n",
       "3                 0.0             0.000000               0.0   \n",
       "4                 0.0             0.000000               0.0   \n",
       "\n",
       "   Asian Restaurant  BBQ Joint       Bar  Belgian Restaurant  Bistro  ...  \\\n",
       "0          0.018519        0.0  0.018519                 0.0     0.0  ...   \n",
       "1          0.000000        0.0  0.000000                 0.0     0.0  ...   \n",
       "2          0.000000        0.0  0.000000                 0.0     0.0  ...   \n",
       "3          0.000000        0.0  0.000000                 0.0     0.0  ...   \n",
       "4          0.000000        0.0  0.000000                 0.0     0.0  ...   \n",
       "\n",
       "   Sports Bar  Steakhouse  Sushi Restaurant  Taco Place  Taiwanese Restaurant  \\\n",
       "0         0.0    0.037037          0.037037         0.0                   0.0   \n",
       "1         0.0    0.000000          0.000000         0.0                   0.0   \n",
       "2         0.0    0.000000          0.000000         0.0                   0.0   \n",
       "3         0.0    0.000000          0.000000         0.0                   0.0   \n",
       "4         0.0    0.000000          0.083333         0.0                   0.0   \n",
       "\n",
       "   Tapas Restaurant  Thai Restaurant  Vegetarian / Vegan Restaurant  \\\n",
       "0               0.0         0.055556                       0.018519   \n",
       "1               0.0         0.000000                       0.000000   \n",
       "2               0.0         0.000000                       0.000000   \n",
       "3               0.0         0.000000                       0.000000   \n",
       "4               0.0         0.000000                       0.000000   \n",
       "\n",
       "   Vietnamese Restaurant  Wings Joint  \n",
       "0                    0.0          0.0  \n",
       "1                    0.0          0.0  \n",
       "2                    0.0          0.0  \n",
       "3                    0.0          0.0  \n",
       "4                    0.0          0.0  \n",
       "\n",
       "[5 rows x 91 columns]"
      ],
      "text/html": "<div>\n<style scoped>\n    .dataframe tbody tr th:only-of-type {\n        vertical-align: middle;\n    }\n\n    .dataframe tbody tr th {\n        vertical-align: top;\n    }\n\n    .dataframe thead th {\n        text-align: right;\n    }\n</style>\n<table border=\"1\" class=\"dataframe\">\n  <thead>\n    <tr style=\"text-align: right;\">\n      <th></th>\n      <th>Neighborhood</th>\n      <th>Afghan Restaurant</th>\n      <th>Airport Food Court</th>\n      <th>American Restaurant</th>\n      <th>Arepa Restaurant</th>\n      <th>Asian Restaurant</th>\n      <th>BBQ Joint</th>\n      <th>Bar</th>\n      <th>Belgian Restaurant</th>\n      <th>Bistro</th>\n      <th>...</th>\n      <th>Sports Bar</th>\n      <th>Steakhouse</th>\n      <th>Sushi Restaurant</th>\n      <th>Taco Place</th>\n      <th>Taiwanese Restaurant</th>\n      <th>Tapas Restaurant</th>\n      <th>Thai Restaurant</th>\n      <th>Vegetarian / Vegan Restaurant</th>\n      <th>Vietnamese Restaurant</th>\n      <th>Wings Joint</th>\n    </tr>\n  </thead>\n  <tbody>\n    <tr>\n      <td>0</td>\n      <td>Adelaide, King, Richmond</td>\n      <td>0.0</td>\n      <td>0.0</td>\n      <td>0.037037</td>\n      <td>0.0</td>\n      <td>0.018519</td>\n      <td>0.0</td>\n      <td>0.018519</td>\n      <td>0.0</td>\n      <td>0.0</td>\n      <td>...</td>\n      <td>0.0</td>\n      <td>0.037037</td>\n      <td>0.037037</td>\n      <td>0.0</td>\n      <td>0.0</td>\n      <td>0.0</td>\n      <td>0.055556</td>\n      <td>0.018519</td>\n      <td>0.0</td>\n      <td>0.0</td>\n    </tr>\n    <tr>\n      <td>1</td>\n      <td>Agincourt</td>\n      <td>0.0</td>\n      <td>0.0</td>\n      <td>0.000000</td>\n      <td>0.0</td>\n      <td>0.000000</td>\n      <td>0.0</td>\n      <td>0.000000</td>\n      <td>0.0</td>\n      <td>0.0</td>\n      <td>...</td>\n      <td>0.0</td>\n      <td>0.000000</td>\n      <td>0.000000</td>\n      <td>0.0</td>\n      <td>0.0</td>\n      <td>0.0</td>\n      <td>0.000000</td>\n      <td>0.000000</td>\n      <td>0.0</td>\n      <td>0.0</td>\n    </tr>\n    <tr>\n      <td>2</td>\n      <td>Albion Gardens, Beaumond Heights, Humbergate, ...</td>\n      <td>0.0</td>\n      <td>0.0</td>\n      <td>0.000000</td>\n      <td>0.0</td>\n      <td>0.000000</td>\n      <td>0.0</td>\n      <td>0.000000</td>\n      <td>0.0</td>\n      <td>0.0</td>\n      <td>...</td>\n      <td>0.0</td>\n      <td>0.000000</td>\n      <td>0.000000</td>\n      <td>0.0</td>\n      <td>0.0</td>\n      <td>0.0</td>\n      <td>0.000000</td>\n      <td>0.000000</td>\n      <td>0.0</td>\n      <td>0.0</td>\n    </tr>\n    <tr>\n      <td>3</td>\n      <td>Alderwood, Long Branch</td>\n      <td>0.0</td>\n      <td>0.0</td>\n      <td>0.000000</td>\n      <td>0.0</td>\n      <td>0.000000</td>\n      <td>0.0</td>\n      <td>0.000000</td>\n      <td>0.0</td>\n      <td>0.0</td>\n      <td>...</td>\n      <td>0.0</td>\n      <td>0.000000</td>\n      <td>0.000000</td>\n      <td>0.0</td>\n      <td>0.0</td>\n      <td>0.0</td>\n      <td>0.000000</td>\n      <td>0.000000</td>\n      <td>0.0</td>\n      <td>0.0</td>\n    </tr>\n    <tr>\n      <td>4</td>\n      <td>Bathurst Manor, Downsview North, Wilson Heights</td>\n      <td>0.0</td>\n      <td>0.0</td>\n      <td>0.000000</td>\n      <td>0.0</td>\n      <td>0.000000</td>\n      <td>0.0</td>\n      <td>0.000000</td>\n      <td>0.0</td>\n      <td>0.0</td>\n      <td>...</td>\n      <td>0.0</td>\n      <td>0.000000</td>\n      <td>0.083333</td>\n      <td>0.0</td>\n      <td>0.0</td>\n      <td>0.0</td>\n      <td>0.000000</td>\n      <td>0.000000</td>\n      <td>0.0</td>\n      <td>0.0</td>\n    </tr>\n  </tbody>\n</table>\n<p>5 rows × 91 columns</p>\n</div>"
     },
     "metadata": {},
     "execution_count": 38
    }
   ],
   "source": [
    "#Analyze each neighbourhood\n",
    "\n",
    "\n",
    "\n",
    "TO_grouped = TO_new_onehot.groupby('Neighborhood').mean().reset_index()\n",
    "TO_grouped.shape\n",
    "\n",
    "\n",
    "TO_grouped.head()\n",
    "\n",
    "\n"
   ]
  },
  {
   "cell_type": "markdown",
   "metadata": {},
   "source": [
    "## 2. Begin to Cluster"
   ]
  },
  {
   "cell_type": "markdown",
   "metadata": {},
   "source": [
    "### Use silhouette score to find optimal number of clusters to segment the data"
   ]
  },
  {
   "cell_type": "code",
   "execution_count": 39,
   "metadata": {},
   "outputs": [
    {
     "output_type": "execute_result",
     "data": {
      "text/plain": [
       "3"
      ]
     },
     "metadata": {},
     "execution_count": 39
    }
   ],
   "source": [
    "from sklearn.cluster import KMeans\n",
    "from sklearn.metrics import silhouette_score\n",
    "import numpy as np\n",
    "\n",
    "\n",
    "TO_grouped_clustering = TO_grouped.drop('Neighborhood', 1)\n",
    "\n",
    "# Use silhouette score to find optimal number of clusters to segment the data\n",
    "kclusters = np.arange(2,10)\n",
    "results = {}\n",
    "for size in kclusters:\n",
    "    model = KMeans(n_clusters = size).fit(TO_grouped_clustering)\n",
    "    predictions = model.predict(TO_grouped_clustering)\n",
    "    results[size] = silhouette_score(TO_grouped_clustering, predictions)\n",
    "\n",
    "best_size = max(results, key=results.get)\n",
    "best_size"
   ]
  },
  {
   "cell_type": "markdown",
   "metadata": {},
   "source": [
    "### 2.1 Run K means and segment data into clusters and generate labels"
   ]
  },
  {
   "cell_type": "code",
   "execution_count": 40,
   "metadata": {},
   "outputs": [
    {
     "output_type": "execute_result",
     "data": {
      "text/plain": [
       "array([0, 0, 0, 0, 0, 0, 0, 0, 0, 0])"
      ]
     },
     "metadata": {},
     "execution_count": 40
    }
   ],
   "source": [
    "#import k-means from clustering stage\n",
    "from sklearn.cluster import KMeans\n",
    "\n",
    "# set number of clusters\n",
    "kclusters = best_size\n",
    "\n",
    "\n",
    "# run k-means clustering\n",
    "kmeans = KMeans(n_clusters=kclusters, random_state=0).fit(TO_grouped_clustering)\n",
    "\n",
    "# check cluster labels generated for each row in the dataframe\n",
    "kmeans.labels_[0:10] "
   ]
  },
  {
   "cell_type": "code",
   "execution_count": 41,
   "metadata": {},
   "outputs": [
    {
     "output_type": "execute_result",
     "data": {
      "text/plain": [
       "                                        Neighborhood 1st Most Common Venue  \\\n",
       "0                           Adelaide, King, Richmond           Coffee Shop   \n",
       "1                                          Agincourt        Breakfast Spot   \n",
       "2  Albion Gardens, Beaumond Heights, Humbergate, ...           Pizza Place   \n",
       "3                             Alderwood, Long Branch           Pizza Place   \n",
       "4    Bathurst Manor, Downsview North, Wilson Heights           Coffee Shop   \n",
       "\n",
       "  2nd Most Common Venue      3rd Most Common Venue 4th Most Common Venue  \\\n",
       "0                  Café                 Restaurant       Thai Restaurant   \n",
       "1    Chinese Restaurant  Latin American Restaurant                  Food   \n",
       "2  Fast Food Restaurant        Fried Chicken Joint        Sandwich Place   \n",
       "3                   Pub                Coffee Shop        Sandwich Place   \n",
       "4           Pizza Place             Sandwich Place                 Diner   \n",
       "\n",
       "       5th Most Common Venue        6th Most Common Venue  \\\n",
       "0              Deli / Bodega                   Steakhouse   \n",
       "1        Dumpling Restaurant  Eastern European Restaurant   \n",
       "2                Wings Joint                        Diner   \n",
       "3         Falafel Restaurant           Dim Sum Restaurant   \n",
       "4  Middle Eastern Restaurant           Chinese Restaurant   \n",
       "\n",
       "  7th Most Common Venue 8th Most Common Venue        9th Most Common Venue  \\\n",
       "0           Salad Place           Pizza Place                Burrito Place   \n",
       "1   Empanada Restaurant  Ethiopian Restaurant           Falafel Restaurant   \n",
       "2      Doner Restaurant   Dumpling Restaurant  Eastern European Restaurant   \n",
       "3                 Diner      Doner Restaurant          Dumpling Restaurant   \n",
       "4            Restaurant         Deli / Bodega          Fried Chicken Joint   \n",
       "\n",
       "        10th Most Common Venue  \n",
       "0             Sushi Restaurant  \n",
       "1         Fast Food Restaurant  \n",
       "2          Empanada Restaurant  \n",
       "3  Eastern European Restaurant  \n",
       "4             Sushi Restaurant  "
      ],
      "text/html": "<div>\n<style scoped>\n    .dataframe tbody tr th:only-of-type {\n        vertical-align: middle;\n    }\n\n    .dataframe tbody tr th {\n        vertical-align: top;\n    }\n\n    .dataframe thead th {\n        text-align: right;\n    }\n</style>\n<table border=\"1\" class=\"dataframe\">\n  <thead>\n    <tr style=\"text-align: right;\">\n      <th></th>\n      <th>Neighborhood</th>\n      <th>1st Most Common Venue</th>\n      <th>2nd Most Common Venue</th>\n      <th>3rd Most Common Venue</th>\n      <th>4th Most Common Venue</th>\n      <th>5th Most Common Venue</th>\n      <th>6th Most Common Venue</th>\n      <th>7th Most Common Venue</th>\n      <th>8th Most Common Venue</th>\n      <th>9th Most Common Venue</th>\n      <th>10th Most Common Venue</th>\n    </tr>\n  </thead>\n  <tbody>\n    <tr>\n      <td>0</td>\n      <td>Adelaide, King, Richmond</td>\n      <td>Coffee Shop</td>\n      <td>Café</td>\n      <td>Restaurant</td>\n      <td>Thai Restaurant</td>\n      <td>Deli / Bodega</td>\n      <td>Steakhouse</td>\n      <td>Salad Place</td>\n      <td>Pizza Place</td>\n      <td>Burrito Place</td>\n      <td>Sushi Restaurant</td>\n    </tr>\n    <tr>\n      <td>1</td>\n      <td>Agincourt</td>\n      <td>Breakfast Spot</td>\n      <td>Chinese Restaurant</td>\n      <td>Latin American Restaurant</td>\n      <td>Food</td>\n      <td>Dumpling Restaurant</td>\n      <td>Eastern European Restaurant</td>\n      <td>Empanada Restaurant</td>\n      <td>Ethiopian Restaurant</td>\n      <td>Falafel Restaurant</td>\n      <td>Fast Food Restaurant</td>\n    </tr>\n    <tr>\n      <td>2</td>\n      <td>Albion Gardens, Beaumond Heights, Humbergate, ...</td>\n      <td>Pizza Place</td>\n      <td>Fast Food Restaurant</td>\n      <td>Fried Chicken Joint</td>\n      <td>Sandwich Place</td>\n      <td>Wings Joint</td>\n      <td>Diner</td>\n      <td>Doner Restaurant</td>\n      <td>Dumpling Restaurant</td>\n      <td>Eastern European Restaurant</td>\n      <td>Empanada Restaurant</td>\n    </tr>\n    <tr>\n      <td>3</td>\n      <td>Alderwood, Long Branch</td>\n      <td>Pizza Place</td>\n      <td>Pub</td>\n      <td>Coffee Shop</td>\n      <td>Sandwich Place</td>\n      <td>Falafel Restaurant</td>\n      <td>Dim Sum Restaurant</td>\n      <td>Diner</td>\n      <td>Doner Restaurant</td>\n      <td>Dumpling Restaurant</td>\n      <td>Eastern European Restaurant</td>\n    </tr>\n    <tr>\n      <td>4</td>\n      <td>Bathurst Manor, Downsview North, Wilson Heights</td>\n      <td>Coffee Shop</td>\n      <td>Pizza Place</td>\n      <td>Sandwich Place</td>\n      <td>Diner</td>\n      <td>Middle Eastern Restaurant</td>\n      <td>Chinese Restaurant</td>\n      <td>Restaurant</td>\n      <td>Deli / Bodega</td>\n      <td>Fried Chicken Joint</td>\n      <td>Sushi Restaurant</td>\n    </tr>\n  </tbody>\n</table>\n</div>"
     },
     "metadata": {},
     "execution_count": 41
    }
   ],
   "source": [
    "def return_most_common_venues(row, num_top_venues):\n",
    "    row_categories = row.iloc[1:]\n",
    "    row_categories_sorted = row_categories.sort_values(ascending=False)\n",
    "    return row_categories_sorted.index.values[0:num_top_venues]\n",
    "\n",
    "num_top_venues = 10\n",
    "\n",
    "indicators = ['st', 'nd', 'rd']\n",
    "\n",
    "# create columns according to number of top venues\n",
    "columns = ['Neighborhood']\n",
    "for ind in np.arange(num_top_venues):\n",
    "    try:\n",
    "        columns.append('{}{} Most Common Venue'.format(ind+1, indicators[ind]))\n",
    "    except:\n",
    "        columns.append('{}th Most Common Venue'.format(ind+1))\n",
    "\n",
    "# create a new dataframe\n",
    "neighborhoods_venues_sorted = pd.DataFrame(columns=columns)\n",
    "neighborhoods_venues_sorted['Neighborhood'] = TO_grouped['Neighborhood']\n",
    "\n",
    "for ind in np.arange(TO_grouped.shape[0]):\n",
    "    neighborhoods_venues_sorted.iloc[ind, 1:] = return_most_common_venues(TO_grouped.iloc[ind, :], num_top_venues)\n",
    "\n",
    "neighborhoods_venues_sorted.head()"
   ]
  },
  {
   "cell_type": "markdown",
   "metadata": {},
   "source": [
    "### 2.2 Merge the Toronto data with geo coordinates data and make sure it's the right shape"
   ]
  },
  {
   "cell_type": "code",
   "execution_count": 42,
   "metadata": {},
   "outputs": [
    {
     "output_type": "execute_result",
     "data": {
      "text/plain": [
       "   Unnamed: 0 PostalCode  AfterTaxIncome2015  Population_2016  \\\n",
       "0          55        M5M            111821.0          25975.0   \n",
       "1          61        M4N            109841.0          15330.0   \n",
       "2          74        M5R            108271.0          26496.0   \n",
       "3          23        M4G             94853.0          19076.0   \n",
       "4          12        M1C             93943.0          35626.0   \n",
       "\n",
       "          Bourough                            Neighborhood   Latitude  \\\n",
       "0       North York       Bedford Park, Lawrence Manor East  43.733283   \n",
       "1  Central Toronto                           Lawrence Park  43.728020   \n",
       "2  Central Toronto     The Annex, North Midtown, Yorkville  43.672710   \n",
       "3        East York                                 Leaside  43.709060   \n",
       "4      Scarborough  Highland Creek, Rouge Hill, Port Union  43.784535   \n",
       "\n",
       "   Longitude  \n",
       "0 -79.419750  \n",
       "1 -79.388790  \n",
       "2 -79.405678  \n",
       "3 -79.363452  \n",
       "4 -79.160497  "
      ],
      "text/html": "<div>\n<style scoped>\n    .dataframe tbody tr th:only-of-type {\n        vertical-align: middle;\n    }\n\n    .dataframe tbody tr th {\n        vertical-align: top;\n    }\n\n    .dataframe thead th {\n        text-align: right;\n    }\n</style>\n<table border=\"1\" class=\"dataframe\">\n  <thead>\n    <tr style=\"text-align: right;\">\n      <th></th>\n      <th>Unnamed: 0</th>\n      <th>PostalCode</th>\n      <th>AfterTaxIncome2015</th>\n      <th>Population_2016</th>\n      <th>Bourough</th>\n      <th>Neighborhood</th>\n      <th>Latitude</th>\n      <th>Longitude</th>\n    </tr>\n  </thead>\n  <tbody>\n    <tr>\n      <td>0</td>\n      <td>55</td>\n      <td>M5M</td>\n      <td>111821.0</td>\n      <td>25975.0</td>\n      <td>North York</td>\n      <td>Bedford Park, Lawrence Manor East</td>\n      <td>43.733283</td>\n      <td>-79.419750</td>\n    </tr>\n    <tr>\n      <td>1</td>\n      <td>61</td>\n      <td>M4N</td>\n      <td>109841.0</td>\n      <td>15330.0</td>\n      <td>Central Toronto</td>\n      <td>Lawrence Park</td>\n      <td>43.728020</td>\n      <td>-79.388790</td>\n    </tr>\n    <tr>\n      <td>2</td>\n      <td>74</td>\n      <td>M5R</td>\n      <td>108271.0</td>\n      <td>26496.0</td>\n      <td>Central Toronto</td>\n      <td>The Annex, North Midtown, Yorkville</td>\n      <td>43.672710</td>\n      <td>-79.405678</td>\n    </tr>\n    <tr>\n      <td>3</td>\n      <td>23</td>\n      <td>M4G</td>\n      <td>94853.0</td>\n      <td>19076.0</td>\n      <td>East York</td>\n      <td>Leaside</td>\n      <td>43.709060</td>\n      <td>-79.363452</td>\n    </tr>\n    <tr>\n      <td>4</td>\n      <td>12</td>\n      <td>M1C</td>\n      <td>93943.0</td>\n      <td>35626.0</td>\n      <td>Scarborough</td>\n      <td>Highland Creek, Rouge Hill, Port Union</td>\n      <td>43.784535</td>\n      <td>-79.160497</td>\n    </tr>\n  </tbody>\n</table>\n</div>"
     },
     "metadata": {},
     "execution_count": 42
    }
   ],
   "source": [
    "#Merge the Toronto data with geo cooridinate data and make sure it's the right shape\n",
    "TO_labels = pd.merge(TO_data,TO_grouped, on='Neighborhood', how='right')\n",
    "TO_labels.shape\n",
    "\n",
    "\n",
    "TO_labels = TO_labels.drop(columns=['Steakhouse', 'Coffee Shop', 'Café', 'Ramen Restaurant', 'Indonesian Restaurant', 'Restaurant', 'Japanese Restaurant', \n",
    "             'Fast Food Restaurant', 'Sushi Restaurant', 'Vietnamese Restaurant', 'Pizza Place', 'Sandwich Place', 'Middle Eastern Restaurant', \n",
    "             'Burger Joint', 'American Restaurant', 'Food Court', 'Wings Joint', 'Burrito Place', 'Asian Restaurant', 'Deli / Bodega', \n",
    "             'Greek Restaurant', 'Fried Chicken Joint', 'Airport Food Court', 'Chinese Restaurant', 'Breakfast Spot', 'Mexican Restaurant',\n",
    "             'Indian Restaurant', 'Latin American Restaurant', 'Bar', 'Pub', 'Italian Restaurant', 'French Restaurant', 'Ice Cream Shop', \n",
    "             'Caribbean Restaurant', 'Gastropub', 'Thai Restaurant', 'Cajun / Creole Restaurant', 'Diner', 'Dim Sum Restaurant', 'Seafood Restaurant', \n",
    "             'Food & Drink Shop', 'Noodle House', 'Food', 'Fish & Chips Shop', 'Falafel Restaurant', 'Gourmet Shop', 'Vegetarian / Vegan Restaurant', \n",
    "             'South American Restaurant', 'Korean Restaurant', 'Cuban Restaurant', 'New American Restaurant', 'Malay Restaurant', 'Mac & Cheese Joint',\n",
    "             'Bistro', 'Southern / Soul Food Restaurant', 'Tapas Restaurant',  'Sports Bar', 'Polish Restaurant', 'Ethiopian Restaurant', \n",
    "             'Creperie', 'Sake Bar', 'Persian Restaurant', 'Afghan Restaurant','Mediterranean Restaurant', 'BBQ Joint', 'Jewish Restaurant', \n",
    "             'Comfort Food Restaurant',  'Hakka Restaurant', 'Food Truck', 'Taiwanese Restaurant',  'Snack Place', 'Eastern European Restaurant', \n",
    "             'Dumpling Restaurant', 'Belgian Restaurant', 'Arepa Restaurant', 'Taco Place', 'Doner Restaurant', 'Filipino Restaurant', \n",
    "             'Hotpot Restaurant', 'Poutine Place', 'Salad Place',  'Portuguese Restaurant', 'Modern European Restaurant', 'Empanada Restaurant', \n",
    "             'Irish Pub', 'Molecular Gastronomy Restaurant', 'German Restaurant', 'Brazilian Restaurant', 'Gluten-free Restaurant', 'Soup Place'])\n",
    "TO_labels.head()"
   ]
  },
  {
   "cell_type": "markdown",
   "metadata": {},
   "source": [
    "### 2.3 Add the KMeans Labels"
   ]
  },
  {
   "cell_type": "code",
   "execution_count": 43,
   "metadata": {},
   "outputs": [
    {
     "output_type": "execute_result",
     "data": {
      "text/plain": [
       "   Unnamed: 0 PostalCode  AfterTaxIncome2015  Population_2016  \\\n",
       "0          55        M5M            111821.0          25975.0   \n",
       "1          61        M4N            109841.0          15330.0   \n",
       "2          74        M5R            108271.0          26496.0   \n",
       "3          23        M4G             94853.0          19076.0   \n",
       "4          12        M1C             93943.0          35626.0   \n",
       "\n",
       "          Bourough                            Neighborhood   Latitude  \\\n",
       "0       North York       Bedford Park, Lawrence Manor East  43.733283   \n",
       "1  Central Toronto                           Lawrence Park  43.728020   \n",
       "2  Central Toronto     The Annex, North Midtown, Yorkville  43.672710   \n",
       "3        East York                                 Leaside  43.709060   \n",
       "4      Scarborough  Highland Creek, Rouge Hill, Port Union  43.784535   \n",
       "\n",
       "   Longitude  Cluster Labels 1st Most Common Venue 2nd Most Common Venue  \\\n",
       "0 -79.419750               0        Sandwich Place    Italian Restaurant   \n",
       "1 -79.388790               0    Dim Sum Restaurant           Wings Joint   \n",
       "2 -79.405678               0                  Café        Sandwich Place   \n",
       "3 -79.363452               0           Coffee Shop          Burger Joint   \n",
       "4 -79.160497               0                   Bar           Wings Joint   \n",
       "\n",
       "  3rd Most Common Venue 4th Most Common Venue        5th Most Common Venue  \\\n",
       "0           Coffee Shop           Pizza Place      Comfort Food Restaurant   \n",
       "1      Doner Restaurant   Dumpling Restaurant  Eastern European Restaurant   \n",
       "2           Coffee Shop           Pizza Place    Middle Eastern Restaurant   \n",
       "3        Breakfast Spot    Mexican Restaurant             Sushi Restaurant   \n",
       "4                  Food      Doner Restaurant          Dumpling Restaurant   \n",
       "\n",
       "         6th Most Common Venue 7th Most Common Venue 8th Most Common Venue  \\\n",
       "0                         Café                   Pub     Indian Restaurant   \n",
       "1          Empanada Restaurant  Ethiopian Restaurant    Falafel Restaurant   \n",
       "2            Indian Restaurant             BBQ Joint                   Pub   \n",
       "3                   Sports Bar     Fish & Chips Shop            Restaurant   \n",
       "4  Eastern European Restaurant   Empanada Restaurant  Ethiopian Restaurant   \n",
       "\n",
       "  9th Most Common Venue 10th Most Common Venue  \n",
       "0            Restaurant       Sushi Restaurant  \n",
       "1  Fast Food Restaurant    Filipino Restaurant  \n",
       "2          Burger Joint            Wings Joint  \n",
       "3        Sandwich Place   Fast Food Restaurant  \n",
       "4    Falafel Restaurant   Fast Food Restaurant  "
      ],
      "text/html": "<div>\n<style scoped>\n    .dataframe tbody tr th:only-of-type {\n        vertical-align: middle;\n    }\n\n    .dataframe tbody tr th {\n        vertical-align: top;\n    }\n\n    .dataframe thead th {\n        text-align: right;\n    }\n</style>\n<table border=\"1\" class=\"dataframe\">\n  <thead>\n    <tr style=\"text-align: right;\">\n      <th></th>\n      <th>Unnamed: 0</th>\n      <th>PostalCode</th>\n      <th>AfterTaxIncome2015</th>\n      <th>Population_2016</th>\n      <th>Bourough</th>\n      <th>Neighborhood</th>\n      <th>Latitude</th>\n      <th>Longitude</th>\n      <th>Cluster Labels</th>\n      <th>1st Most Common Venue</th>\n      <th>2nd Most Common Venue</th>\n      <th>3rd Most Common Venue</th>\n      <th>4th Most Common Venue</th>\n      <th>5th Most Common Venue</th>\n      <th>6th Most Common Venue</th>\n      <th>7th Most Common Venue</th>\n      <th>8th Most Common Venue</th>\n      <th>9th Most Common Venue</th>\n      <th>10th Most Common Venue</th>\n    </tr>\n  </thead>\n  <tbody>\n    <tr>\n      <td>0</td>\n      <td>55</td>\n      <td>M5M</td>\n      <td>111821.0</td>\n      <td>25975.0</td>\n      <td>North York</td>\n      <td>Bedford Park, Lawrence Manor East</td>\n      <td>43.733283</td>\n      <td>-79.419750</td>\n      <td>0</td>\n      <td>Sandwich Place</td>\n      <td>Italian Restaurant</td>\n      <td>Coffee Shop</td>\n      <td>Pizza Place</td>\n      <td>Comfort Food Restaurant</td>\n      <td>Café</td>\n      <td>Pub</td>\n      <td>Indian Restaurant</td>\n      <td>Restaurant</td>\n      <td>Sushi Restaurant</td>\n    </tr>\n    <tr>\n      <td>1</td>\n      <td>61</td>\n      <td>M4N</td>\n      <td>109841.0</td>\n      <td>15330.0</td>\n      <td>Central Toronto</td>\n      <td>Lawrence Park</td>\n      <td>43.728020</td>\n      <td>-79.388790</td>\n      <td>0</td>\n      <td>Dim Sum Restaurant</td>\n      <td>Wings Joint</td>\n      <td>Doner Restaurant</td>\n      <td>Dumpling Restaurant</td>\n      <td>Eastern European Restaurant</td>\n      <td>Empanada Restaurant</td>\n      <td>Ethiopian Restaurant</td>\n      <td>Falafel Restaurant</td>\n      <td>Fast Food Restaurant</td>\n      <td>Filipino Restaurant</td>\n    </tr>\n    <tr>\n      <td>2</td>\n      <td>74</td>\n      <td>M5R</td>\n      <td>108271.0</td>\n      <td>26496.0</td>\n      <td>Central Toronto</td>\n      <td>The Annex, North Midtown, Yorkville</td>\n      <td>43.672710</td>\n      <td>-79.405678</td>\n      <td>0</td>\n      <td>Café</td>\n      <td>Sandwich Place</td>\n      <td>Coffee Shop</td>\n      <td>Pizza Place</td>\n      <td>Middle Eastern Restaurant</td>\n      <td>Indian Restaurant</td>\n      <td>BBQ Joint</td>\n      <td>Pub</td>\n      <td>Burger Joint</td>\n      <td>Wings Joint</td>\n    </tr>\n    <tr>\n      <td>3</td>\n      <td>23</td>\n      <td>M4G</td>\n      <td>94853.0</td>\n      <td>19076.0</td>\n      <td>East York</td>\n      <td>Leaside</td>\n      <td>43.709060</td>\n      <td>-79.363452</td>\n      <td>0</td>\n      <td>Coffee Shop</td>\n      <td>Burger Joint</td>\n      <td>Breakfast Spot</td>\n      <td>Mexican Restaurant</td>\n      <td>Sushi Restaurant</td>\n      <td>Sports Bar</td>\n      <td>Fish &amp; Chips Shop</td>\n      <td>Restaurant</td>\n      <td>Sandwich Place</td>\n      <td>Fast Food Restaurant</td>\n    </tr>\n    <tr>\n      <td>4</td>\n      <td>12</td>\n      <td>M1C</td>\n      <td>93943.0</td>\n      <td>35626.0</td>\n      <td>Scarborough</td>\n      <td>Highland Creek, Rouge Hill, Port Union</td>\n      <td>43.784535</td>\n      <td>-79.160497</td>\n      <td>0</td>\n      <td>Bar</td>\n      <td>Wings Joint</td>\n      <td>Food</td>\n      <td>Doner Restaurant</td>\n      <td>Dumpling Restaurant</td>\n      <td>Eastern European Restaurant</td>\n      <td>Empanada Restaurant</td>\n      <td>Ethiopian Restaurant</td>\n      <td>Falafel Restaurant</td>\n      <td>Fast Food Restaurant</td>\n    </tr>\n  </tbody>\n</table>\n</div>"
     },
     "metadata": {},
     "execution_count": 43
    }
   ],
   "source": [
    "TO_merged = TO_labels\n",
    "\n",
    "# add clustering labels\n",
    "TO_merged['Cluster Labels'] = kmeans.labels_\n",
    "\n",
    "# merge toronto_grouped with toronto_data to add latitude/longitude for each neighborhood\n",
    "TO_merged = TO_merged.join(neighborhoods_venues_sorted.set_index('Neighborhood'), on='Neighborhood')\n",
    "\n",
    "TO_merged.head() # check the last columns!"
   ]
  },
  {
   "cell_type": "code",
   "execution_count": 44,
   "metadata": {},
   "outputs": [
    {
     "output_type": "execute_result",
     "data": {
      "text/plain": [
       "(73, 16)"
      ]
     },
     "metadata": {},
     "execution_count": 44
    }
   ],
   "source": [
    "TO_merged_new1 = TO_merged.loc[TO_merged['Cluster Labels'] == 0, TO_merged.columns[[3, 4] + list(range(5, TO_merged.shape[1]))]]\n",
    "TO_merged_new1.shape"
   ]
  },
  {
   "cell_type": "code",
   "execution_count": 45,
   "metadata": {},
   "outputs": [
    {
     "output_type": "execute_result",
     "data": {
      "text/plain": [
       "(7, 16)"
      ]
     },
     "metadata": {},
     "execution_count": 45
    }
   ],
   "source": [
    "TO_merged_new2 = TO_merged.loc[TO_merged['Cluster Labels'] == 1, TO_merged.columns[[3, 4] + list(range(5, TO_merged.shape[1]))]]\n",
    "TO_merged_new2.shape"
   ]
  },
  {
   "cell_type": "markdown",
   "metadata": {},
   "source": [
    "## 3. Cluster 2 Contains the highest cluster density. We need to find the geographic centroid for this cluster. This is the optimum location for a new Restaurant Supply Store."
   ]
  },
  {
   "cell_type": "code",
   "execution_count": 46,
   "metadata": {},
   "outputs": [
    {
     "output_type": "stream",
     "name": "stdout",
     "text": [
      "43.68444492857143\n-79.39739552857144\n"
     ]
    }
   ],
   "source": [
    "# Find the geographic center of the most dense or like cluster.\n",
    "Cluster_0_coorid = TO_merged_new2[['Latitude', 'Longitude']]\n",
    "Cluster_0_coorid = list(Cluster_0_coorid.values) \n",
    "lat = []\n",
    "long = []\n",
    "\n",
    "\n",
    "\n",
    "for l in Cluster_0_coorid:\n",
    "  lat.append(l[0])\n",
    "  long.append(l[1])\n",
    "\n",
    "\n",
    "\n",
    "Blatitude = sum(lat)/len(lat)\n",
    "Blongitude = sum(long)/len(long)\n",
    "print(Blatitude)\n",
    "print(Blongitude)"
   ]
  },
  {
   "cell_type": "code",
   "execution_count": 51,
   "metadata": {},
   "outputs": [
    {
     "output_type": "stream",
     "name": "stdout",
     "text": [
      "The Best Neighbourhood to locate a Restaurant Supply Store is in: ['Davisville'] in ['Central Toronto']\n"
     ]
    }
   ],
   "source": [
    "#Obtain the popupstring of the best location\n",
    "popstring = TO_data[TO_data['PostalCode'].str.contains('M4S')]\n",
    "\n",
    "def str_join(*args):\n",
    "    return ''.join(map(str, args))\n",
    "\n",
    "popstring_new = str_join('The Best Neighbourhood to locate a Restaurant Supply Store is in: ', popstring['Neighborhood'].values,  ' in ' ,  popstring['Bourough'].values)\n",
    "\n",
    "\n",
    "print(popstring_new)\n"
   ]
  },
  {
   "cell_type": "code",
   "execution_count": 54,
   "metadata": {},
   "outputs": [
    {
     "output_type": "stream",
     "name": "stdout",
     "text": [
      "The geograpical coordinate of Toronto are 43.6534817, -79.3839347.\n"
     ]
    }
   ],
   "source": [
    "# Let's get the coordinates for Toronto\n",
    "\n",
    "from geopy.geocoders import Nominatim\n",
    "address = 'Toronto, ON'\n",
    "\n",
    "geolocator = Nominatim(user_agent=\"user_agent\")\n",
    "location = geolocator.geocode(address)\n",
    "latitude = location.latitude\n",
    "longitude = location.longitude\n",
    "print('The geograpical coordinate of Toronto are {}, {}.'.format(latitude, longitude))"
   ]
  },
  {
   "cell_type": "markdown",
   "metadata": {},
   "source": [
    "## 4. Results"
   ]
  },
  {
   "cell_type": "markdown",
   "metadata": {},
   "source": [
    "### 4.1 Plot the clusters on a Map of the Toronto and Super Impose the best location of a Store"
   ]
  },
  {
   "cell_type": "code",
   "execution_count": 55,
   "metadata": {},
   "outputs": [],
   "source": [
    "# getfolium\n",
    "import folium \n",
    "# Matplotlib and associated plotting modules\n",
    "import matplotlib.cm as cm\n",
    "import matplotlib.colors as colors\n",
    "\n",
    "# create map\n",
    "map_clusters = folium.Map(location=[latitude, longitude], zoom_start=11)\n",
    "\n",
    "# set color scheme for the clusters\n",
    "x = np.arange(kclusters)\n",
    "ys = [i+x+(i*x)**2 for i in range(kclusters)]\n",
    "colors_array = cm.rainbow(np.linspace(0, 1, len(ys)))\n",
    "rainbow = [colors.rgb2hex(i) for i in colors_array]\n",
    "\n",
    "# add markers to the map\n",
    "markers_colors = []\n",
    "for lat, lon, poi, cluster in zip(TO_merged['Latitude'], TO_merged['Longitude'], TO_merged['Neighborhood'], TO_merged['Cluster Labels']):\n",
    "    label = folium.Popup(str(poi) + ' Cluster ' + str(cluster), parse_html=True)\n",
    "    folium.CircleMarker(\n",
    "        [lat, lon],\n",
    "        radius=5,\n",
    "        popup=label,\n",
    "        color=rainbow[cluster-1],\n",
    "        fill=True,\n",
    "        fill_color=rainbow[cluster-1],\n",
    "        fill_opacity=0.7).add_to(map_clusters)\n",
    "    \n",
    "folium.CircleMarker([Blatitude, Blongitude],\n",
    "                    radius=50,\n",
    "                    popup='Toronto',\n",
    "                    color='red',\n",
    "                    ).add_to(map_clusters)\n",
    "\n",
    "# Interactive marker\n",
    "map_clusters.add_child(folium.ClickForMarker(popup=popstring_new))\n",
    "       \n",
    "#map_clusters\n",
    "map_clusters.save('map_clusters.html')"
   ]
  },
  {
   "cell_type": "markdown",
   "metadata": {},
   "source": [
    "![](https://i.imgur.com/lQnSq7P.png)"
   ]
  },
  {
   "cell_type": "markdown",
   "metadata": {},
   "source": [
    "### 4.2 Exact Address of desired Location"
   ]
  },
  {
   "cell_type": "code",
   "execution_count": 56,
   "metadata": {},
   "outputs": [
    {
     "output_type": "stream",
     "name": "stdout",
     "text": [
      "The exact Address to locate would be: 268 Balliol Street, ON M4S 1C2, Canada or lat: 43.6991598, lng: -79.3878871\n"
     ]
    }
   ],
   "source": [
    "print('The exact Address to locate would be: 268 Balliol Street, ON M4S 1C2, Canada or lat: 43.6991598, lng: -79.3878871')"
   ]
  },
  {
   "cell_type": "markdown",
   "metadata": {},
   "source": [
    "## Discussion:\n",
    "\n",
    "### 5.1 Explaining the results\n",
    "\n",
    "As we built our list of neighborhoods with Restaurant venues exclusively we discovered most neighborhoods were similar and the greatest concentration of restaurants was in Central Toronto and downtown Toronto. This might seem obvious but it would also appear that these are some of the most affluent neighborhoods in Toronto so there appears to be correlation. By Locating in the general vicinity of the Exact location my friend could be geographically centered in this cluster and poised to service his restaurant customer base with the greatest efficiency.<br>\n",
    "\n",
    "When we built our our K-Means dataset we used Silhouette analysis to tell us there was a lot of similarity between neighborhoods and the most common restaurants contained with in. Really there was only 2 types of cluster or neighborhoods in greater Toronto. The vast majority of those were in 1 cluster. So Toronto restaurants might be many but they are very homogeneously located near the center of Toronto.<br>\n",
    "\n",
    "Of the 103 Toronto Neighborhoods gathered only 55.3% or 57 Neighborhoods are above the median after-tax income. 37.8% or 39 Neighborhoods are below he median after-tax income. 6.7% or 7 neighborhoods did not register as it appears their populations are too low. It appears that the greatest concentration of affluence is near central Toronto. We decided to keep all neighborhoods in the dataset regardless of income of population as the majority were close enough.<br> \n",
    "\n",
    "\n"
   ]
  },
  {
   "cell_type": "markdown",
   "metadata": {},
   "source": [
    "## Conclusion:\n",
    "\n",
    "I feel confident with the recommendation I have given my friend as it is backed up with demonstrated data analysis. While nothing can ever be 100% certain he will certainly be better informed than he was prior to asking for my help.\n",
    "\n",
    "Much more inference can be obtained with more work. A potential side business for my friend might be assisting new restaurant owners where they might locate a new restaurant, who their competition is and who their clientele might be."
   ]
  },
  {
   "cell_type": "code",
   "execution_count": 57,
   "metadata": {},
   "outputs": [
    {
     "output_type": "execute_result",
     "data": {
      "text/plain": [
       "<folium.folium.Map at 0x1d4895e8588>"
      ],
      "text/html": "<div style=\"width:100%;\"><div style=\"position:relative;width:100%;height:0;padding-bottom:60%;\"><span style=\"color:#565656\">Make this Notebook Trusted to load map: File -> Trust Notebook</span><iframe src=\"about:blank\" style=\"position:absolute;width:100%;height:100%;left:0;top:0;border:none !important;\" data-html=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 onload=\"this.contentDocument.open();this.contentDocument.write(atob(this.getAttribute('data-html')));this.contentDocument.close();\" allowfullscreen webkitallowfullscreen mozallowfullscreen></iframe></div></div>"
     },
     "metadata": {},
     "execution_count": 57
    }
   ],
   "source": [
    "map_clusters"
   ]
  },
  {
   "cell_type": "code",
   "execution_count": null,
   "metadata": {},
   "outputs": [],
   "source": []
  }
 ],
 "metadata": {
  "kernelspec": {
   "display_name": "Python 3",
   "language": "python",
   "name": "python3"
  },
  "language_info": {
   "codemirror_mode": {
    "name": "ipython",
    "version": 3
   },
   "file_extension": ".py",
   "mimetype": "text/x-python",
   "name": "python",
   "nbconvert_exporter": "python",
   "pygments_lexer": "ipython3",
   "version": "3.6.9-final"
  }
 },
 "nbformat": 4,
 "nbformat_minor": 2
}