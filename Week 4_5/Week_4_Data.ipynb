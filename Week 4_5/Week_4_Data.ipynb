{
 "cells": [
  {
   "cell_type": "markdown",
   "metadata": {},
   "source": [
    "# Capstone: Find the best neighborhood in Toronto to open a Restaurant Supply Store\n",
    "\n",
    "By Viral Patel\n",
    "\n",
    "\n",
    "## Data Requirements:\n",
    "\n",
    "### 1. We will need a list of Toronto neighborhoods broken down by postal code.\n",
    "I start with finding a list of Toronto Neighbor hoods with postal code from Wikipedia and load this data as my working base.<br>\n",
    "https://en.wikipedia.org/wiki/List_of_postal_codes_of_Canada:_M\n",
    "\n",
    "### 2.  We will need a list of Toronto neighborhoods populations broken down by postal code\n",
    "Import a list of populations by postal code<br>\n",
    "https://www12.statcan.gc.ca/census-recensement/2016/dp-pd/hlt-fst/pd-pl/Tables/File.cfm?T=1201&SR=1&RPP=9999&PR=0&CMA=0&CSD=0&S=22&O=A&Lang=Eng&OFT=CSV<br>\n",
    "\n",
    "### 3. We will need a list of Toronto neighborhoods average after tax income broken down by postal code\n",
    "Here we must manually download these from Stats Canada and load them.<br>\n",
    "https://www12.statcan.gc.ca/census-recensement/2016/dp-pd/prof/search-recherche/change-geo.cfm?Lang=E&Geo1=FSA<br>\n",
    "See: to_geo_space.csv\n",
    "\n",
    "### 4. What is the Canadian National Average After Tax Income by Postal code\n",
    "Here we must also manually download this from Stats Canada and load them.<br>\n",
    "https://www150.statcan.gc.ca/n1/daily-quotidien/180313/dq180313a-eng.htm<br>\n",
    "Canadian families and unattached individuals had a median after-tax income of $57,000 in 2016.<br>\n",
    "\n",
    "### 5. We will need a list of all Restaurant Venues from all neighborhoods in Toronto by Postal code\n",
    "We use 4SQUARE API to download all venues from all neighborhoods in Toronto. <br>\n",
    "https://api.foursquare.com<br>\n",
    "Extract Restaurants and only include Restaurants in our Data Set.<br>\n",
    "\n",
    "### 6. Combine all of those into a working Data Set to cluster and geo spatial map of the results showing the best neighborhood to open a Restaurant Supply Store<br>\n",
    "\n",
    "Combining all of these disparate data sets will clearly demonstrate the following:\n",
    "- which neighborhoods in Toronto have clusters of like Restaurants\n",
    "- how populated each neighborhoods is\n",
    "- the average after tax income is all of these neighborhoods\n",
    "- which neighborhood should he target to open his new store.\n",
    "\n"
   ]
  }
 ],
 "metadata": {
  "kernelspec": {
   "display_name": "Python 3",
   "language": "python",
   "name": "python3"
  },
  "language_info": {
   "codemirror_mode": {
    "name": "ipython",
    "version": 3
   },
   "file_extension": ".py",
   "mimetype": "text/x-python",
   "name": "python",
   "nbconvert_exporter": "python",
   "pygments_lexer": "ipython3",
   "version": "3.6.6"
  }
 },
 "nbformat": 4,
 "nbformat_minor": 2
}